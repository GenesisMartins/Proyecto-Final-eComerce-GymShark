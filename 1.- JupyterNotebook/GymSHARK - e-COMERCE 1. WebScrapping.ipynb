{
 "cells": [
  {
   "cell_type": "markdown",
   "id": "45576067",
   "metadata": {},
   "source": [
    "## Proyecto final BOOTCAMP IRONHACK\n",
    "###### Estrategias de e-COMERCE\n",
    "\n",
    "COMPANY = GYMSHARK\n",
    "\n",
    "### PASO 1. WebScraping\n",
    "- website : https://eu.gymshark.com/"
   ]
  },
  {
   "cell_type": "markdown",
   "id": "c8496b64",
   "metadata": {},
   "source": [
    "##### Importación de librerias"
   ]
  },
  {
   "cell_type": "code",
   "execution_count": 2,
   "id": "3863cc0b",
   "metadata": {},
   "outputs": [],
   "source": [
    "import pandas as pd\n",
    "import numpy as np\n",
    "\n",
    "## LIBRERIAS DE WEBSCRAPING\n",
    "import requests as req\n",
    "from bs4 import BeautifulSoup as bs\n",
    "from selenium import webdriver \n",
    "from selenium.webdriver.common.by import By\n",
    "from selenium.webdriver.chrome.options import Options \n",
    "from selenium.webdriver.common.by import By \n",
    "from selenium.webdriver.common.keys import Keys \n",
    "import time\n",
    "\n",
    "\n",
    "%matplotlib inline"
   ]
  },
  {
   "cell_type": "code",
   "execution_count": 3,
   "id": "307a700a",
   "metadata": {},
   "outputs": [
    {
     "ename": "NameError",
     "evalue": "name 'url' is not defined",
     "output_type": "error",
     "traceback": [
      "\u001b[1;31m---------------------------------------------------------------------------\u001b[0m",
      "\u001b[1;31mNameError\u001b[0m                                 Traceback (most recent call last)",
      "Cell \u001b[1;32mIn[3], line 1\u001b[0m\n\u001b[1;32m----> 1\u001b[0m html\u001b[38;5;241m=\u001b[39mreq\u001b[38;5;241m.\u001b[39mget(url)\u001b[38;5;241m.\u001b[39mtext\n\u001b[0;32m      3\u001b[0m sopa\u001b[38;5;241m=\u001b[39mbs(html, \u001b[38;5;124m'\u001b[39m\u001b[38;5;124mhtml.parser\u001b[39m\u001b[38;5;124m'\u001b[39m)\n\u001b[0;32m      5\u001b[0m PATH \u001b[38;5;241m=\u001b[39m \u001b[38;5;124m'\u001b[39m\u001b[38;5;124mdriver/chromedriver\u001b[39m\u001b[38;5;124m'\u001b[39m\n",
      "\u001b[1;31mNameError\u001b[0m: name 'url' is not defined"
     ]
    }
   ],
   "source": [
    "html=req.get(url).text\n",
    "\n",
    "sopa=bs(html, 'html.parser')\n",
    "\n",
    "PATH = 'driver/chromedriver'\n",
    "\n",
    "# opciones del driver\n",
    "opciones=Options()\n",
    "\n",
    "# quita la bandera de ser robot\n",
    "opciones.add_experimental_option('excludeSwitches', ['enable-automation'])\n",
    "opciones.add_experimental_option('useAutomationExtension', False)\n",
    "\n",
    "# guardar las cookies\n",
    "opciones.add_argument('user-data-dir=cookies')    # mantiene las coockies"
   ]
  },
  {
   "cell_type": "markdown",
   "id": "1eabe7ea",
   "metadata": {},
   "source": [
    "### EXTRAER LOS DATOS DE GYMSHARK\n",
    "##### 1.- Womens Products"
   ]
  },
  {
   "cell_type": "code",
   "execution_count": 8,
   "id": "498f93b7",
   "metadata": {},
   "outputs": [],
   "source": [
    "womens_urls = [\"https://eu.gymshark.com/collections/all-products/womens\",\n",
    "        \"https://eu.gymshark.com/collections/all-products/womens?page=1\",\n",
    "        \"https://eu.gymshark.com/collections/all-products/womens?page=2\",\n",
    "        \"https://eu.gymshark.com/collections/all-products/womens?page=3\",\n",
    "        \"https://eu.gymshark.com/collections/all-products/womens?page=4\",\n",
    "        \"https://eu.gymshark.com/collections/all-products/womens?page=5\",\n",
    "        \"https://eu.gymshark.com/collections/all-products/womens?page=6\",\n",
    "        \"https://eu.gymshark.com/collections/all-products/womens?page=7\",\n",
    "        \"https://eu.gymshark.com/collections/all-products/womens?page=8\",\n",
    "        \"https://eu.gymshark.com/collections/all-products/womens?page=9\",\n",
    "        \"https://eu.gymshark.com/collections/all-products/womens?page=10\",\n",
    "        \"https://eu.gymshark.com/collections/all-products/womens?page=11\",\n",
    "        \"https://eu.gymshark.com/collections/all-products/womens?page=12\",\n",
    "        \"https://eu.gymshark.com/collections/all-products/womens?page=13\",\n",
    "        \"https://eu.gymshark.com/collections/all-products/womens?page=14\",\n",
    "        \"https://eu.gymshark.com/collections/all-products/womens?page=15\",\n",
    "        \"https://eu.gymshark.com/collections/all-products/womens?page=16\",\n",
    "        \"https://eu.gymshark.com/collections/all-products/womens?page=17\",\n",
    "        \"https://eu.gymshark.com/collections/all-products/womens?page=18\",\n",
    "        \"https://eu.gymshark.com/collections/all-products/womens?page=19\",\n",
    "        \"https://eu.gymshark.com/collections/all-products/womens?page=20\",    \n",
    "       ]"
   ]
  },
  {
   "cell_type": "code",
   "execution_count": 9,
   "id": "f0496edc",
   "metadata": {},
   "outputs": [],
   "source": [
    "# Inicializar el navegador\n",
    "driver = webdriver.Chrome()\n",
    "\n",
    "# Crear diccionario para almacenar los datos\n",
    "data = {\n",
    "    'Title': [],\n",
    "    'Rating': [],\n",
    "    'Colour': [],\n",
    "    'Price': []\n",
    "}\n",
    "\n",
    "# Recorrer las URLs\n",
    "for url in womens_urls:\n",
    "    # Abrir la página web\n",
    "    driver.get(url)\n",
    "    time.sleep(2)  # Esperar unos segundos para que se cargue completamente la página\n",
    "\n",
    "    # Encontrar los elementos deseados\n",
    "    product_titles = driver.find_elements(By.CSS_SELECTOR, 'h4.product-card_product-title__9gis1')\n",
    "    ratings = driver.find_elements(By.CSS_SELECTOR, 'span.product-card_rating__0HGVv')\n",
    "    colours = driver.find_elements(By.CSS_SELECTOR, 'p.product-card_product-colour__JApvJ')\n",
    "    prices = driver.find_elements(By.CSS_SELECTOR, 'div.product-card_price-container__9HpcE')\n",
    "\n",
    "    # Agregar los datos de la página actual al diccionario\n",
    "    data['Title'].extend([title.text for title in product_titles])\n",
    "    data['Rating'].extend([rating.text for rating in ratings])\n",
    "    data['Colour'].extend([colour.text for colour in colours])\n",
    "    data['Price'].extend([price.text for price in prices])\n",
    "\n",
    "    \n",
    "# Verificar la longitud de las listas y rellenar con valores nulos si es necesario\n",
    "max_length = max(len(data['Title']), len(data['Rating']), len(data['Colour']), len(data['Price']))\n",
    "for key in data:\n",
    "    data[key] += [''] * (max_length - len(data[key]))\n",
    "\n",
    "# Crear DataFrame\n",
    "womens_products = pd.DataFrame(data)\n",
    "\n",
    "# Cerrar el navegador\n",
    "driver.quit()\n"
   ]
  },
  {
   "cell_type": "markdown",
   "id": "44cee670",
   "metadata": {},
   "source": [
    "##### 2.- Mens Produtcs"
   ]
  },
  {
   "cell_type": "code",
   "execution_count": 10,
   "id": "e3ca5a63",
   "metadata": {},
   "outputs": [],
   "source": [
    "mens_urls = [\"https://eu.gymshark.com/collections/all-products/mens\",\n",
    "        \"https://eu.gymshark.com/collections/all-products/mens?page=1\",\n",
    "        \"https://eu.gymshark.com/collections/all-products/mens?page=2\",\n",
    "        \"https://eu.gymshark.com/collections/all-products/mens?page=3\",\n",
    "        \"https://eu.gymshark.com/collections/all-products/mens?page=4\",\n",
    "        \"https://eu.gymshark.com/collections/all-products/mens?page=5\",\n",
    "        \"https://eu.gymshark.com/collections/all-products/mens?page=6\",\n",
    "        \"https://eu.gymshark.com/collections/all-products/mens?page=7\",\n",
    "        \"https://eu.gymshark.com/collections/all-products/mens?page=8\",\n",
    "        \"https://eu.gymshark.com/collections/all-products/mens?page=9\",\n",
    "        \"https://eu.gymshark.com/collections/all-products/mens?page=10\",\n",
    "        \"https://eu.gymshark.com/collections/all-products/mens?page=11\",\n",
    "        \"https://eu.gymshark.com/collections/all-products/mens?page=12\",\n",
    "        \"https://eu.gymshark.com/collections/all-products/mens?page=13\",\n",
    "        \"https://eu.gymshark.com/collections/all-products/mens?page=14\",\n",
    "        \"https://eu.gymshark.com/collections/all-products/mens?page=15\",\n",
    "        \"https://eu.gymshark.com/collections/all-products/mens?page=16\",\n",
    "        \"https://eu.gymshark.com/collections/all-products/mens?page=17\",\n",
    "        \"https://eu.gymshark.com/collections/all-products/mens?page=18\",\n",
    "        \"https://eu.gymshark.com/collections/all-products/mens?page=19\",\n",
    "        \"https://eu.gymshark.com/collections/all-products/mens?page=20\",    \n",
    "       ]"
   ]
  },
  {
   "cell_type": "code",
   "execution_count": 11,
   "id": "3fb36de7",
   "metadata": {},
   "outputs": [],
   "source": [
    "# Inicializar el navegador\n",
    "driver = webdriver.Chrome()\n",
    "\n",
    "# Crear diccionario para almacenar los datos\n",
    "data = {\n",
    "    'Title': [],\n",
    "    'Rating': [],\n",
    "    'Colour': [],\n",
    "    'Price': []\n",
    "}\n",
    "\n",
    "# Recorrer las URLs\n",
    "for url in mens_urls:\n",
    "    # Abrir la página web\n",
    "    driver.get(url)\n",
    "    time.sleep(2)  # Esperar unos segundos para que se cargue completamente la página\n",
    "\n",
    "    # Encontrar los elementos deseados\n",
    "    product_titles = driver.find_elements(By.CSS_SELECTOR, 'h4.product-card_product-title__9gis1')\n",
    "    ratings = driver.find_elements(By.CSS_SELECTOR, 'span.product-card_rating__0HGVv')\n",
    "    colours = driver.find_elements(By.CSS_SELECTOR, 'p.product-card_product-colour__JApvJ')\n",
    "    prices = driver.find_elements(By.CSS_SELECTOR, 'div.product-card_price-container__9HpcE')\n",
    "\n",
    "    # Agregar los datos de la página actual al diccionario\n",
    "    data['Title'].extend([title.text for title in product_titles])\n",
    "    data['Rating'].extend([rating.text for rating in ratings])\n",
    "    data['Colour'].extend([colour.text for colour in colours])\n",
    "    data['Price'].extend([price.text for price in prices])\n",
    "\n",
    "    \n",
    "# Verificar la longitud de las listas y rellenar con valores nulos si es necesario\n",
    "max_length = max(len(data['Title']), len(data['Rating']), len(data['Colour']), len(data['Price']))\n",
    "for key in data:\n",
    "    data[key] += [''] * (max_length - len(data[key]))\n",
    "\n",
    "# Crear DataFrame\n",
    "mens_products = pd.DataFrame(data)\n",
    "\n",
    "# Cerrar el navegador\n",
    "driver.quit()\n"
   ]
  },
  {
   "cell_type": "markdown",
   "id": "187fccf8",
   "metadata": {},
   "source": [
    "##### 3.- Accessories Produtcs"
   ]
  },
  {
   "cell_type": "code",
   "execution_count": 5,
   "id": "b16da10e",
   "metadata": {},
   "outputs": [],
   "source": [
    "Accessories_urls = [\"https://eu.gymshark.com/collections/accessories\",\n",
    "        \"https://eu.gymshark.com/collections/accessories?page=1\",\n",
    "        \"https://eu.gymshark.com/collections/accessories?page=2\",\n",
    "        \"https://eu.gymshark.com/collections/accessories?page=3\"  \n",
    "       ]"
   ]
  },
  {
   "cell_type": "code",
   "execution_count": 6,
   "id": "eb4e6f15",
   "metadata": {},
   "outputs": [],
   "source": [
    "# Inicializar el navegador\n",
    "driver = webdriver.Chrome()\n",
    "\n",
    "# Crear diccionario para almacenar los datos\n",
    "data = {\n",
    "    'Title': [],\n",
    "    'Rating': [],\n",
    "    'Colour': [],\n",
    "    'Price': []\n",
    "}\n",
    "\n",
    "# Recorrer las URLs\n",
    "for url in Accessories_urls:\n",
    "    # Abrir la página web\n",
    "    driver.get(url)\n",
    "    time.sleep(2)  # Esperar unos segundos para que se cargue completamente la página\n",
    "\n",
    "    # Encontrar los elementos deseados\n",
    "    product_titles = driver.find_elements(By.CSS_SELECTOR, 'h4.product-card_product-title__9gis1')\n",
    "    ratings = driver.find_elements(By.CSS_SELECTOR, 'span.product-card_rating__0HGVv')\n",
    "    colours = driver.find_elements(By.CSS_SELECTOR, 'p.product-card_product-colour__JApvJ')\n",
    "    prices = driver.find_elements(By.CSS_SELECTOR, 'div.product-card_price-container__9HpcE')\n",
    "\n",
    "    # Agregar los datos de la página actual al diccionario\n",
    "    data['Title'].extend([title.text for title in product_titles])\n",
    "    data['Rating'].extend([rating.text for rating in ratings])\n",
    "    data['Colour'].extend([colour.text for colour in colours])\n",
    "    data['Price'].extend([price.text for price in prices])\n",
    "\n",
    "    \n",
    "# Verificar la longitud de las listas y rellenar con valores nulos si es necesario\n",
    "max_length = max(len(data['Title']), len(data['Rating']), len(data['Colour']), len(data['Price']))\n",
    "for key in data:\n",
    "    data[key] += [''] * (max_length - len(data[key]))\n",
    "\n",
    "# Crear DataFrame\n",
    "accessories_products = pd.DataFrame(data)\n",
    "\n",
    "# Cerrar el navegador\n",
    "driver.quit()\n"
   ]
  },
  {
   "cell_type": "markdown",
   "id": "2332c04f",
   "metadata": {},
   "source": [
    "### Agrego la columna 'Category' a cada DataFrame para asignarle la categoría a la que corresponde cada producto"
   ]
  },
  {
   "cell_type": "code",
   "execution_count": 12,
   "id": "a477672e",
   "metadata": {},
   "outputs": [],
   "source": [
    "womens_products['Category'] = 'women'\n",
    "mens_products['Category'] = 'men'\n",
    "accessories_products['Category'] = 'accessories'"
   ]
  },
  {
   "cell_type": "markdown",
   "id": "f70cad0b",
   "metadata": {},
   "source": [
    "### Concateno los tres DataFrames"
   ]
  },
  {
   "cell_type": "code",
   "execution_count": 13,
   "id": "942ecc12",
   "metadata": {
    "scrolled": true
   },
   "outputs": [
    {
     "data": {
      "text/html": [
       "<div>\n",
       "<style scoped>\n",
       "    .dataframe tbody tr th:only-of-type {\n",
       "        vertical-align: middle;\n",
       "    }\n",
       "\n",
       "    .dataframe tbody tr th {\n",
       "        vertical-align: top;\n",
       "    }\n",
       "\n",
       "    .dataframe thead th {\n",
       "        text-align: right;\n",
       "    }\n",
       "</style>\n",
       "<table border=\"1\" class=\"dataframe\">\n",
       "  <thead>\n",
       "    <tr style=\"text-align: right;\">\n",
       "      <th></th>\n",
       "      <th>Title</th>\n",
       "      <th>Rating</th>\n",
       "      <th>Colour</th>\n",
       "      <th>Price</th>\n",
       "      <th>Category</th>\n",
       "    </tr>\n",
       "  </thead>\n",
       "  <tbody>\n",
       "    <tr>\n",
       "      <th>0</th>\n",
       "      <td>Crew Socks 3pk</td>\n",
       "      <td>4.2</td>\n",
       "      <td>White/Light Grey Core Marl/Black</td>\n",
       "      <td>€14</td>\n",
       "      <td>women</td>\n",
       "    </tr>\n",
       "    <tr>\n",
       "      <th>1</th>\n",
       "      <td>Everyday Seamless Leggings</td>\n",
       "      <td>3.5</td>\n",
       "      <td>Black</td>\n",
       "      <td>€40</td>\n",
       "      <td>women</td>\n",
       "    </tr>\n",
       "    <tr>\n",
       "      <th>2</th>\n",
       "      <td>Sports Bottle</td>\n",
       "      <td>4</td>\n",
       "      <td>River Stone Grey/Drift Grey</td>\n",
       "      <td>€16</td>\n",
       "      <td>women</td>\n",
       "    </tr>\n",
       "    <tr>\n",
       "      <th>3</th>\n",
       "      <td>Crew Socks 5pk</td>\n",
       "      <td>4.4</td>\n",
       "      <td>White</td>\n",
       "      <td>€20</td>\n",
       "      <td>women</td>\n",
       "    </tr>\n",
       "    <tr>\n",
       "      <th>4</th>\n",
       "      <td>Vital Seamless 2.0 Leggings</td>\n",
       "      <td>4.1</td>\n",
       "      <td>Black Marl</td>\n",
       "      <td>€55</td>\n",
       "      <td>women</td>\n",
       "    </tr>\n",
       "  </tbody>\n",
       "</table>\n",
       "</div>"
      ],
      "text/plain": [
       "                         Title Rating                            Colour Price  \\\n",
       "0               Crew Socks 3pk    4.2  White/Light Grey Core Marl/Black   €14   \n",
       "1   Everyday Seamless Leggings    3.5                             Black   €40   \n",
       "2                Sports Bottle      4       River Stone Grey/Drift Grey   €16   \n",
       "3               Crew Socks 5pk    4.4                             White   €20   \n",
       "4  Vital Seamless 2.0 Leggings    4.1                        Black Marl   €55   \n",
       "\n",
       "  Category  \n",
       "0    women  \n",
       "1    women  \n",
       "2    women  \n",
       "3    women  \n",
       "4    women  "
      ]
     },
     "execution_count": 13,
     "metadata": {},
     "output_type": "execute_result"
    }
   ],
   "source": [
    "# Concatenar los tres DataFrames\n",
    "gymshark_products = pd.concat([womens_products, mens_products, accessories_products], ignore_index=True)\n",
    "gymshark_products.head()"
   ]
  },
  {
   "cell_type": "code",
   "execution_count": 14,
   "id": "e9eba724",
   "metadata": {},
   "outputs": [
    {
     "data": {
      "text/plain": [
       "2217"
      ]
     },
     "execution_count": 14,
     "metadata": {},
     "output_type": "execute_result"
    }
   ],
   "source": [
    "len(gymshark_products)"
   ]
  },
  {
   "cell_type": "code",
   "execution_count": 15,
   "id": "59158e3b",
   "metadata": {
    "scrolled": true
   },
   "outputs": [
    {
     "name": "stdout",
     "output_type": "stream",
     "text": [
      "<class 'pandas.core.frame.DataFrame'>\n",
      "RangeIndex: 2217 entries, 0 to 2216\n",
      "Data columns (total 5 columns):\n",
      " #   Column    Non-Null Count  Dtype \n",
      "---  ------    --------------  ----- \n",
      " 0   Title     2217 non-null   object\n",
      " 1   Rating    2217 non-null   object\n",
      " 2   Colour    2217 non-null   object\n",
      " 3   Price     2217 non-null   object\n",
      " 4   Category  2217 non-null   object\n",
      "dtypes: object(5)\n",
      "memory usage: 86.7+ KB\n"
     ]
    }
   ],
   "source": [
    "gymshark_products.info()"
   ]
  },
  {
   "cell_type": "markdown",
   "id": "3ce59321",
   "metadata": {},
   "source": [
    "### EXPORTO EL DF A CSV"
   ]
  },
  {
   "cell_type": "code",
   "execution_count": 16,
   "id": "2eb4460c",
   "metadata": {},
   "outputs": [],
   "source": [
    "gymshark_products.to_csv('gymshark_products.csv', index=False)"
   ]
  },
  {
   "cell_type": "code",
   "execution_count": null,
   "id": "f727f3d3",
   "metadata": {},
   "outputs": [],
   "source": []
  }
 ],
 "metadata": {
  "kernelspec": {
   "display_name": "Python 3 (ipykernel)",
   "language": "python",
   "name": "python3"
  },
  "language_info": {
   "codemirror_mode": {
    "name": "ipython",
    "version": 3
   },
   "file_extension": ".py",
   "mimetype": "text/x-python",
   "name": "python",
   "nbconvert_exporter": "python",
   "pygments_lexer": "ipython3",
   "version": "3.11.5"
  }
 },
 "nbformat": 4,
 "nbformat_minor": 5
}
