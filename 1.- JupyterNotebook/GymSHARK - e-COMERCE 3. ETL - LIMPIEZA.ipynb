{
 "cells": [
  {
   "cell_type": "markdown",
   "id": "12c7217e",
   "metadata": {},
   "source": [
    "## Proyecto final BOOTCAMP IRONHACK\n",
    "###### Estrategias de e-COMERCE\n",
    "\n",
    "COMPANY = GYMSHARK\n",
    "\n",
    "### PASO 3. ETL\n",
    "- website : https://eu.gymshark.com/"
   ]
  },
  {
   "cell_type": "code",
   "execution_count": 48,
   "id": "2cc5ab68",
   "metadata": {},
   "outputs": [],
   "source": [
    "import pandas as pd\n",
    "import numpy as np\n",
    "import seaborn as sns\n",
    "import matplotlib.pyplot as plt\n",
    "import matplotlib.ticker as ticker"
   ]
  },
  {
   "cell_type": "markdown",
   "id": "4dafdc63",
   "metadata": {},
   "source": [
    "### DF Nº1: SALES 2023"
   ]
  },
  {
   "cell_type": "code",
   "execution_count": 49,
   "id": "e9cc6ef6",
   "metadata": {
    "scrolled": true
   },
   "outputs": [],
   "source": [
    "# Importo el CSV de GYMSHARK SALES resultante del fake\n",
    "sales_gymshark = pd.read_csv('sales_gymshark.concat.csv')"
   ]
  },
  {
   "cell_type": "code",
   "execution_count": 50,
   "id": "086b0179",
   "metadata": {},
   "outputs": [
    {
     "data": {
      "text/plain": [
       "410000"
      ]
     },
     "execution_count": 50,
     "metadata": {},
     "output_type": "execute_result"
    }
   ],
   "source": [
    "len(sales_gymshark)"
   ]
  },
  {
   "cell_type": "code",
   "execution_count": 51,
   "id": "0654b6a0",
   "metadata": {},
   "outputs": [
    {
     "data": {
      "text/plain": [
       "(410000, 12)"
      ]
     },
     "execution_count": 51,
     "metadata": {},
     "output_type": "execute_result"
    }
   ],
   "source": [
    "sales_gymshark.shape"
   ]
  },
  {
   "cell_type": "code",
   "execution_count": 52,
   "id": "4b71de9a",
   "metadata": {
    "scrolled": true
   },
   "outputs": [
    {
     "name": "stdout",
     "output_type": "stream",
     "text": [
      "<class 'pandas.core.frame.DataFrame'>\n",
      "RangeIndex: 410000 entries, 0 to 409999\n",
      "Data columns (total 12 columns):\n",
      " #   Column       Non-Null Count   Dtype  \n",
      "---  ------       --------------   -----  \n",
      " 0   InvoiceNo    410000 non-null  int64  \n",
      " 1   StockCode    410000 non-null  object \n",
      " 2   Description  410000 non-null  object \n",
      " 3   Size         410000 non-null  object \n",
      " 4   Quantity     410000 non-null  int64  \n",
      " 5   InvoiceDate  410000 non-null  object \n",
      " 6   CustomerID   410000 non-null  int64  \n",
      " 7   Country      410000 non-null  object \n",
      " 8   Rating       379989 non-null  float64\n",
      " 9   Colour       409045 non-null  object \n",
      " 10  Price        410000 non-null  float64\n",
      " 11  Category     410000 non-null  object \n",
      "dtypes: float64(2), int64(3), object(7)\n",
      "memory usage: 37.5+ MB\n"
     ]
    }
   ],
   "source": [
    "sales_gymshark.info()"
   ]
  },
  {
   "cell_type": "code",
   "execution_count": 53,
   "id": "0705d70e",
   "metadata": {},
   "outputs": [
    {
     "data": {
      "text/plain": [
       "Index(['InvoiceNo', 'StockCode', 'Description', 'Size', 'Quantity',\n",
       "       'InvoiceDate', 'CustomerID', 'Country', 'Rating', 'Colour', 'Price',\n",
       "       'Category'],\n",
       "      dtype='object')"
      ]
     },
     "execution_count": 53,
     "metadata": {},
     "output_type": "execute_result"
    }
   ],
   "source": [
    "sales_gymshark.columns"
   ]
  },
  {
   "cell_type": "code",
   "execution_count": 54,
   "id": "ddfd49b9",
   "metadata": {},
   "outputs": [
    {
     "data": {
      "text/plain": [
       "InvoiceNo          0\n",
       "StockCode          0\n",
       "Description        0\n",
       "Size               0\n",
       "Quantity           0\n",
       "InvoiceDate        0\n",
       "CustomerID         0\n",
       "Country            0\n",
       "Rating         30011\n",
       "Colour           955\n",
       "Price              0\n",
       "Category           0\n",
       "dtype: int64"
      ]
     },
     "execution_count": 54,
     "metadata": {},
     "output_type": "execute_result"
    }
   ],
   "source": [
    "sales_gymshark.isnull().sum()"
   ]
  },
  {
   "cell_type": "code",
   "execution_count": 55,
   "id": "046400a5",
   "metadata": {},
   "outputs": [],
   "source": [
    "# RELLENAR NULOS DE LAS COLUMNAS \"Rating\" Y \"Colour\"\n",
    "\n",
    "# Rellenar valores nulos en la columna \"Rating\" con la mediana, son productos que nunca ha sido rankeados por los clientes.\n",
    "sales_gymshark['Rating'] = sales_gymshark['Rating'].fillna(sales_gymshark['Rating'].median())\n",
    "\n",
    "\n",
    "# Rellenar valores nulos en la columna \"Colour\" con \"multicolored\"\n",
    "sales_gymshark['Colour'] = sales_gymshark['Colour'].fillna('multicolored')\n"
   ]
  },
  {
   "cell_type": "code",
   "execution_count": 56,
   "id": "c040fd2c",
   "metadata": {},
   "outputs": [
    {
     "data": {
      "text/plain": [
       "InvoiceNo      0\n",
       "StockCode      0\n",
       "Description    0\n",
       "Size           0\n",
       "Quantity       0\n",
       "InvoiceDate    0\n",
       "CustomerID     0\n",
       "Country        0\n",
       "Rating         0\n",
       "Colour         0\n",
       "Price          0\n",
       "Category       0\n",
       "dtype: int64"
      ]
     },
     "execution_count": 56,
     "metadata": {},
     "output_type": "execute_result"
    }
   ],
   "source": [
    "sales_gymshark.isnull().sum()"
   ]
  },
  {
   "cell_type": "code",
   "execution_count": 57,
   "id": "9caffdbc",
   "metadata": {},
   "outputs": [
    {
     "data": {
      "text/plain": [
       "0"
      ]
     },
     "execution_count": 57,
     "metadata": {},
     "output_type": "execute_result"
    }
   ],
   "source": [
    "sales_gymshark.duplicated().sum()"
   ]
  },
  {
   "cell_type": "code",
   "execution_count": 58,
   "id": "d881e703",
   "metadata": {
    "scrolled": false
   },
   "outputs": [
    {
     "data": {
      "text/html": [
       "<div>\n",
       "<style scoped>\n",
       "    .dataframe tbody tr th:only-of-type {\n",
       "        vertical-align: middle;\n",
       "    }\n",
       "\n",
       "    .dataframe tbody tr th {\n",
       "        vertical-align: top;\n",
       "    }\n",
       "\n",
       "    .dataframe thead th {\n",
       "        text-align: right;\n",
       "    }\n",
       "</style>\n",
       "<table border=\"1\" class=\"dataframe\">\n",
       "  <thead>\n",
       "    <tr style=\"text-align: right;\">\n",
       "      <th></th>\n",
       "      <th>InvoiceNo</th>\n",
       "      <th>StockCode</th>\n",
       "      <th>Description</th>\n",
       "      <th>Size</th>\n",
       "      <th>Quantity</th>\n",
       "      <th>InvoiceDate</th>\n",
       "      <th>CustomerID</th>\n",
       "      <th>Country</th>\n",
       "      <th>Rating</th>\n",
       "      <th>Colour</th>\n",
       "      <th>Price</th>\n",
       "      <th>Category</th>\n",
       "      <th>Day</th>\n",
       "      <th>Month</th>\n",
       "      <th>Year</th>\n",
       "      <th>Hour</th>\n",
       "      <th>DayOfWeek</th>\n",
       "    </tr>\n",
       "  </thead>\n",
       "  <tbody>\n",
       "    <tr>\n",
       "      <th>0</th>\n",
       "      <td>245</td>\n",
       "      <td>78278Z</td>\n",
       "      <td>Running 1/4 Zip</td>\n",
       "      <td>XXS</td>\n",
       "      <td>2</td>\n",
       "      <td>2021-06-22 02:58:00</td>\n",
       "      <td>2344</td>\n",
       "      <td>Canada</td>\n",
       "      <td>4.5</td>\n",
       "      <td>Plum Pink</td>\n",
       "      <td>38.442690</td>\n",
       "      <td>Women</td>\n",
       "      <td>22</td>\n",
       "      <td>6</td>\n",
       "      <td>2021</td>\n",
       "      <td>02:58:00</td>\n",
       "      <td>1</td>\n",
       "    </tr>\n",
       "    <tr>\n",
       "      <th>1</th>\n",
       "      <td>616</td>\n",
       "      <td>01000C</td>\n",
       "      <td>Lifting Lightweight 1/4 Zip Pullover</td>\n",
       "      <td>S</td>\n",
       "      <td>2</td>\n",
       "      <td>2021-05-23 22:31:00</td>\n",
       "      <td>54001</td>\n",
       "      <td>Canada</td>\n",
       "      <td>5.0</td>\n",
       "      <td>Lido Green</td>\n",
       "      <td>26.560404</td>\n",
       "      <td>Women</td>\n",
       "      <td>23</td>\n",
       "      <td>5</td>\n",
       "      <td>2021</td>\n",
       "      <td>22:31:00</td>\n",
       "      <td>6</td>\n",
       "    </tr>\n",
       "    <tr>\n",
       "      <th>2</th>\n",
       "      <td>453</td>\n",
       "      <td>68522Z</td>\n",
       "      <td>Sport 5\" 2 In 1 Shorts</td>\n",
       "      <td>L</td>\n",
       "      <td>1</td>\n",
       "      <td>2021-02-09 00:38:00</td>\n",
       "      <td>96003</td>\n",
       "      <td>USA</td>\n",
       "      <td>3.9</td>\n",
       "      <td>Light Olive Green</td>\n",
       "      <td>29.858400</td>\n",
       "      <td>Women</td>\n",
       "      <td>9</td>\n",
       "      <td>2</td>\n",
       "      <td>2021</td>\n",
       "      <td>00:38:00</td>\n",
       "      <td>1</td>\n",
       "    </tr>\n",
       "    <tr>\n",
       "      <th>3</th>\n",
       "      <td>578</td>\n",
       "      <td>36909N</td>\n",
       "      <td>Crest Joggers</td>\n",
       "      <td>M</td>\n",
       "      <td>1</td>\n",
       "      <td>2021-05-08 15:54:00</td>\n",
       "      <td>34219</td>\n",
       "      <td>UK</td>\n",
       "      <td>4.4</td>\n",
       "      <td>Black</td>\n",
       "      <td>28.501200</td>\n",
       "      <td>Women</td>\n",
       "      <td>8</td>\n",
       "      <td>5</td>\n",
       "      <td>2021</td>\n",
       "      <td>15:54:00</td>\n",
       "      <td>5</td>\n",
       "    </tr>\n",
       "    <tr>\n",
       "      <th>4</th>\n",
       "      <td>863</td>\n",
       "      <td>53352X</td>\n",
       "      <td>Crew Socks 5pk</td>\n",
       "      <td>M</td>\n",
       "      <td>2</td>\n",
       "      <td>2021-03-27 22:38:00</td>\n",
       "      <td>17438</td>\n",
       "      <td>USA</td>\n",
       "      <td>4.7</td>\n",
       "      <td>Black</td>\n",
       "      <td>14.929200</td>\n",
       "      <td>Accesorios</td>\n",
       "      <td>27</td>\n",
       "      <td>3</td>\n",
       "      <td>2021</td>\n",
       "      <td>22:38:00</td>\n",
       "      <td>5</td>\n",
       "    </tr>\n",
       "  </tbody>\n",
       "</table>\n",
       "</div>"
      ],
      "text/plain": [
       "   InvoiceNo StockCode                           Description Size  Quantity  \\\n",
       "0        245    78278Z                       Running 1/4 Zip  XXS         2   \n",
       "1        616    01000C  Lifting Lightweight 1/4 Zip Pullover    S         2   \n",
       "2        453    68522Z                Sport 5\" 2 In 1 Shorts    L         1   \n",
       "3        578    36909N                         Crest Joggers    M         1   \n",
       "4        863    53352X                        Crew Socks 5pk    M         2   \n",
       "\n",
       "          InvoiceDate  CustomerID Country  Rating             Colour  \\\n",
       "0 2021-06-22 02:58:00        2344  Canada     4.5          Plum Pink   \n",
       "1 2021-05-23 22:31:00       54001  Canada     5.0         Lido Green   \n",
       "2 2021-02-09 00:38:00       96003     USA     3.9  Light Olive Green   \n",
       "3 2021-05-08 15:54:00       34219      UK     4.4              Black   \n",
       "4 2021-03-27 22:38:00       17438     USA     4.7              Black   \n",
       "\n",
       "       Price    Category  Day  Month  Year      Hour  DayOfWeek  \n",
       "0  38.442690       Women   22      6  2021  02:58:00          1  \n",
       "1  26.560404       Women   23      5  2021  22:31:00          6  \n",
       "2  29.858400       Women    9      2  2021  00:38:00          1  \n",
       "3  28.501200       Women    8      5  2021  15:54:00          5  \n",
       "4  14.929200  Accesorios   27      3  2021  22:38:00          5  "
      ]
     },
     "execution_count": 58,
     "metadata": {},
     "output_type": "execute_result"
    }
   ],
   "source": [
    "# Convertir 'InvoiceDate' a formato de fecha y hora\n",
    "sales_gymshark['InvoiceDate'] = pd.to_datetime(sales_gymshark['InvoiceDate'], format='%m-%d-%Y %A %H:%M')\n",
    "\n",
    "# Separar la columna 'InvoiceDate' en fecha y hora\n",
    "sales_gymshark['Day'] = sales_gymshark['InvoiceDate'].dt.day\n",
    "sales_gymshark['Month'] = sales_gymshark['InvoiceDate'].dt.month\n",
    "sales_gymshark['Year'] = sales_gymshark['InvoiceDate'].dt.year\n",
    "sales_gymshark['Hour'] = sales_gymshark['InvoiceDate'].dt.strftime('%H:%M:%S')\n",
    "sales_gymshark['DayOfWeek'] = sales_gymshark['InvoiceDate'].dt.dayofweek\n",
    "\n",
    "\n",
    "# Mostrar las primeras filas\n",
    "sales_gymshark.head()\n"
   ]
  },
  {
   "cell_type": "code",
   "execution_count": 59,
   "id": "e088bcb7",
   "metadata": {
    "scrolled": false
   },
   "outputs": [
    {
     "data": {
      "text/plain": [
       "InvoiceNo               int64\n",
       "StockCode              object\n",
       "Description            object\n",
       "Size                   object\n",
       "Quantity                int64\n",
       "InvoiceDate    datetime64[ns]\n",
       "CustomerID              int64\n",
       "Country                object\n",
       "Rating                float64\n",
       "Colour                 object\n",
       "Price                 float64\n",
       "Category               object\n",
       "Day                     int32\n",
       "Month                   int32\n",
       "Year                    int32\n",
       "Hour                   object\n",
       "DayOfWeek               int32\n",
       "dtype: object"
      ]
     },
     "execution_count": 59,
     "metadata": {},
     "output_type": "execute_result"
    }
   ],
   "source": [
    "sales_gymshark.dtypes\n"
   ]
  },
  {
   "cell_type": "markdown",
   "id": "18edd350",
   "metadata": {},
   "source": [
    "### PROCEDO A CREAR COLUMNAS QUE NECESITO PARA ANALISIS:"
   ]
  },
  {
   "cell_type": "code",
   "execution_count": 60,
   "id": "fb1c3b7b",
   "metadata": {},
   "outputs": [],
   "source": [
    "sales_gymshark['Total'] = sales_gymshark['Quantity'] * sales_gymshark['Price']\n",
    "\n",
    "# Calcular el coste, la utilidad y los gastos operacionales\n",
    "sales_gymshark['Cost'] = (sales_gymshark['Total'] * 0.35).round(2)\n",
    "sales_gymshark['Profit'] = (sales_gymshark['Total'] * 0.13).round(2)\n",
    "sales_gymshark['Operational Costs'] = (sales_gymshark['Total'] * 0.52).round(2)\n"
   ]
  },
  {
   "cell_type": "code",
   "execution_count": 61,
   "id": "6147e933",
   "metadata": {},
   "outputs": [],
   "source": [
    "# Convertir las columnas numéricas al formato deseado con coma como separador decimal\n",
    "columns_to_format = ['Rating','Price', 'Total', 'Cost', 'Profit', 'Operational Costs']\n",
    "\n",
    "for column in columns_to_format:\n",
    "    # Convertir la columna al tipo de datos numérico\n",
    "    sales_gymshark[column] = sales_gymshark[column].astype(float)\n",
    "    # Aplicar el formato deseado con coma como separador decimal\n",
    "    sales_gymshark[column] = sales_gymshark[column].map(\"{:,.2f}\".format).str.replace('.', ',')"
   ]
  },
  {
   "cell_type": "code",
   "execution_count": 62,
   "id": "44618374",
   "metadata": {},
   "outputs": [
    {
     "data": {
      "text/plain": [
       "InvoiceNo                     int64\n",
       "StockCode                    object\n",
       "Description                  object\n",
       "Size                         object\n",
       "Quantity                      int64\n",
       "InvoiceDate          datetime64[ns]\n",
       "CustomerID                    int64\n",
       "Country                      object\n",
       "Rating                       object\n",
       "Colour                       object\n",
       "Price                        object\n",
       "Category                     object\n",
       "Day                           int32\n",
       "Month                         int32\n",
       "Year                          int32\n",
       "Hour                         object\n",
       "DayOfWeek                     int32\n",
       "Total                        object\n",
       "Cost                         object\n",
       "Profit                       object\n",
       "Operational Costs            object\n",
       "dtype: object"
      ]
     },
     "execution_count": 62,
     "metadata": {},
     "output_type": "execute_result"
    }
   ],
   "source": [
    "sales_gymshark.dtypes"
   ]
  },
  {
   "cell_type": "code",
   "execution_count": 63,
   "id": "11ce1e53",
   "metadata": {},
   "outputs": [
    {
     "data": {
      "text/html": [
       "<div>\n",
       "<style scoped>\n",
       "    .dataframe tbody tr th:only-of-type {\n",
       "        vertical-align: middle;\n",
       "    }\n",
       "\n",
       "    .dataframe tbody tr th {\n",
       "        vertical-align: top;\n",
       "    }\n",
       "\n",
       "    .dataframe thead th {\n",
       "        text-align: right;\n",
       "    }\n",
       "</style>\n",
       "<table border=\"1\" class=\"dataframe\">\n",
       "  <thead>\n",
       "    <tr style=\"text-align: right;\">\n",
       "      <th></th>\n",
       "      <th>InvoiceNo</th>\n",
       "      <th>StockCode</th>\n",
       "      <th>Description</th>\n",
       "      <th>Size</th>\n",
       "      <th>Quantity</th>\n",
       "      <th>InvoiceDate</th>\n",
       "      <th>CustomerID</th>\n",
       "      <th>Country</th>\n",
       "      <th>Rating</th>\n",
       "      <th>Colour</th>\n",
       "      <th>...</th>\n",
       "      <th>Category</th>\n",
       "      <th>Day</th>\n",
       "      <th>Month</th>\n",
       "      <th>Year</th>\n",
       "      <th>Hour</th>\n",
       "      <th>DayOfWeek</th>\n",
       "      <th>Total</th>\n",
       "      <th>Cost</th>\n",
       "      <th>Profit</th>\n",
       "      <th>Operational Costs</th>\n",
       "    </tr>\n",
       "  </thead>\n",
       "  <tbody>\n",
       "    <tr>\n",
       "      <th>0</th>\n",
       "      <td>245</td>\n",
       "      <td>78278Z</td>\n",
       "      <td>Running 1/4 Zip</td>\n",
       "      <td>XXS</td>\n",
       "      <td>2</td>\n",
       "      <td>2021-06-22 02:58:00</td>\n",
       "      <td>2344</td>\n",
       "      <td>Canada</td>\n",
       "      <td>4,50</td>\n",
       "      <td>Plum Pink</td>\n",
       "      <td>...</td>\n",
       "      <td>Women</td>\n",
       "      <td>22</td>\n",
       "      <td>6</td>\n",
       "      <td>2021</td>\n",
       "      <td>02:58:00</td>\n",
       "      <td>1</td>\n",
       "      <td>76,89</td>\n",
       "      <td>26,91</td>\n",
       "      <td>10,00</td>\n",
       "      <td>39,98</td>\n",
       "    </tr>\n",
       "    <tr>\n",
       "      <th>1</th>\n",
       "      <td>616</td>\n",
       "      <td>01000C</td>\n",
       "      <td>Lifting Lightweight 1/4 Zip Pullover</td>\n",
       "      <td>S</td>\n",
       "      <td>2</td>\n",
       "      <td>2021-05-23 22:31:00</td>\n",
       "      <td>54001</td>\n",
       "      <td>Canada</td>\n",
       "      <td>5,00</td>\n",
       "      <td>Lido Green</td>\n",
       "      <td>...</td>\n",
       "      <td>Women</td>\n",
       "      <td>23</td>\n",
       "      <td>5</td>\n",
       "      <td>2021</td>\n",
       "      <td>22:31:00</td>\n",
       "      <td>6</td>\n",
       "      <td>53,12</td>\n",
       "      <td>18,59</td>\n",
       "      <td>6,91</td>\n",
       "      <td>27,62</td>\n",
       "    </tr>\n",
       "    <tr>\n",
       "      <th>2</th>\n",
       "      <td>453</td>\n",
       "      <td>68522Z</td>\n",
       "      <td>Sport 5\" 2 In 1 Shorts</td>\n",
       "      <td>L</td>\n",
       "      <td>1</td>\n",
       "      <td>2021-02-09 00:38:00</td>\n",
       "      <td>96003</td>\n",
       "      <td>USA</td>\n",
       "      <td>3,90</td>\n",
       "      <td>Light Olive Green</td>\n",
       "      <td>...</td>\n",
       "      <td>Women</td>\n",
       "      <td>9</td>\n",
       "      <td>2</td>\n",
       "      <td>2021</td>\n",
       "      <td>00:38:00</td>\n",
       "      <td>1</td>\n",
       "      <td>29,86</td>\n",
       "      <td>10,45</td>\n",
       "      <td>3,88</td>\n",
       "      <td>15,53</td>\n",
       "    </tr>\n",
       "    <tr>\n",
       "      <th>3</th>\n",
       "      <td>578</td>\n",
       "      <td>36909N</td>\n",
       "      <td>Crest Joggers</td>\n",
       "      <td>M</td>\n",
       "      <td>1</td>\n",
       "      <td>2021-05-08 15:54:00</td>\n",
       "      <td>34219</td>\n",
       "      <td>UK</td>\n",
       "      <td>4,40</td>\n",
       "      <td>Black</td>\n",
       "      <td>...</td>\n",
       "      <td>Women</td>\n",
       "      <td>8</td>\n",
       "      <td>5</td>\n",
       "      <td>2021</td>\n",
       "      <td>15:54:00</td>\n",
       "      <td>5</td>\n",
       "      <td>28,50</td>\n",
       "      <td>9,98</td>\n",
       "      <td>3,71</td>\n",
       "      <td>14,82</td>\n",
       "    </tr>\n",
       "    <tr>\n",
       "      <th>4</th>\n",
       "      <td>863</td>\n",
       "      <td>53352X</td>\n",
       "      <td>Crew Socks 5pk</td>\n",
       "      <td>M</td>\n",
       "      <td>2</td>\n",
       "      <td>2021-03-27 22:38:00</td>\n",
       "      <td>17438</td>\n",
       "      <td>USA</td>\n",
       "      <td>4,70</td>\n",
       "      <td>Black</td>\n",
       "      <td>...</td>\n",
       "      <td>Accesorios</td>\n",
       "      <td>27</td>\n",
       "      <td>3</td>\n",
       "      <td>2021</td>\n",
       "      <td>22:38:00</td>\n",
       "      <td>5</td>\n",
       "      <td>29,86</td>\n",
       "      <td>10,45</td>\n",
       "      <td>3,88</td>\n",
       "      <td>15,53</td>\n",
       "    </tr>\n",
       "    <tr>\n",
       "      <th>...</th>\n",
       "      <td>...</td>\n",
       "      <td>...</td>\n",
       "      <td>...</td>\n",
       "      <td>...</td>\n",
       "      <td>...</td>\n",
       "      <td>...</td>\n",
       "      <td>...</td>\n",
       "      <td>...</td>\n",
       "      <td>...</td>\n",
       "      <td>...</td>\n",
       "      <td>...</td>\n",
       "      <td>...</td>\n",
       "      <td>...</td>\n",
       "      <td>...</td>\n",
       "      <td>...</td>\n",
       "      <td>...</td>\n",
       "      <td>...</td>\n",
       "      <td>...</td>\n",
       "      <td>...</td>\n",
       "      <td>...</td>\n",
       "      <td>...</td>\n",
       "    </tr>\n",
       "    <tr>\n",
       "      <th>409995</th>\n",
       "      <td>962809</td>\n",
       "      <td>13003A</td>\n",
       "      <td>Everyday Holdall Medium</td>\n",
       "      <td>S</td>\n",
       "      <td>3</td>\n",
       "      <td>2023-01-22 15:53:00</td>\n",
       "      <td>37575</td>\n",
       "      <td>UK</td>\n",
       "      <td>4,80</td>\n",
       "      <td>Cherry Brown/Athletic Maroon</td>\n",
       "      <td>...</td>\n",
       "      <td>Accesorios</td>\n",
       "      <td>22</td>\n",
       "      <td>1</td>\n",
       "      <td>2023</td>\n",
       "      <td>15:53:00</td>\n",
       "      <td>6</td>\n",
       "      <td>173,25</td>\n",
       "      <td>60,64</td>\n",
       "      <td>22,52</td>\n",
       "      <td>90,09</td>\n",
       "    </tr>\n",
       "    <tr>\n",
       "      <th>409996</th>\n",
       "      <td>313539</td>\n",
       "      <td>30584H</td>\n",
       "      <td>Elevate Leggings</td>\n",
       "      <td>M</td>\n",
       "      <td>3</td>\n",
       "      <td>2023-06-08 17:09:00</td>\n",
       "      <td>6728</td>\n",
       "      <td>Canada</td>\n",
       "      <td>5,00</td>\n",
       "      <td>Vanilla Brown Marl</td>\n",
       "      <td>...</td>\n",
       "      <td>Women</td>\n",
       "      <td>8</td>\n",
       "      <td>6</td>\n",
       "      <td>2023</td>\n",
       "      <td>17:09:00</td>\n",
       "      <td>3</td>\n",
       "      <td>216,30</td>\n",
       "      <td>75,70</td>\n",
       "      <td>28,12</td>\n",
       "      <td>112,48</td>\n",
       "    </tr>\n",
       "    <tr>\n",
       "      <th>409997</th>\n",
       "      <td>288199</td>\n",
       "      <td>57834W</td>\n",
       "      <td>Rest Day Essentials T-Shirt</td>\n",
       "      <td>S</td>\n",
       "      <td>3</td>\n",
       "      <td>2023-11-25 00:00:00</td>\n",
       "      <td>6940</td>\n",
       "      <td>UK</td>\n",
       "      <td>4,70</td>\n",
       "      <td>Baked Maroon/Salsa Red</td>\n",
       "      <td>...</td>\n",
       "      <td>Women</td>\n",
       "      <td>25</td>\n",
       "      <td>11</td>\n",
       "      <td>2023</td>\n",
       "      <td>00:00:00</td>\n",
       "      <td>5</td>\n",
       "      <td>80,64</td>\n",
       "      <td>28,22</td>\n",
       "      <td>10,48</td>\n",
       "      <td>41,93</td>\n",
       "    </tr>\n",
       "    <tr>\n",
       "      <th>409998</th>\n",
       "      <td>91653</td>\n",
       "      <td>22861Z</td>\n",
       "      <td>Sport 7\" Shorts</td>\n",
       "      <td>S</td>\n",
       "      <td>2</td>\n",
       "      <td>2023-11-16 09:09:00</td>\n",
       "      <td>69998</td>\n",
       "      <td>USA</td>\n",
       "      <td>5,00</td>\n",
       "      <td>Plum Pink</td>\n",
       "      <td>...</td>\n",
       "      <td>Women</td>\n",
       "      <td>16</td>\n",
       "      <td>11</td>\n",
       "      <td>2023</td>\n",
       "      <td>09:09:00</td>\n",
       "      <td>3</td>\n",
       "      <td>61,60</td>\n",
       "      <td>21,56</td>\n",
       "      <td>8,01</td>\n",
       "      <td>32,03</td>\n",
       "    </tr>\n",
       "    <tr>\n",
       "      <th>409999</th>\n",
       "      <td>304362</td>\n",
       "      <td>75936V</td>\n",
       "      <td>Studio Tank</td>\n",
       "      <td>XS</td>\n",
       "      <td>1</td>\n",
       "      <td>2023-10-07 14:17:00</td>\n",
       "      <td>16916</td>\n",
       "      <td>USA</td>\n",
       "      <td>5,00</td>\n",
       "      <td>Navy</td>\n",
       "      <td>...</td>\n",
       "      <td>Men</td>\n",
       "      <td>7</td>\n",
       "      <td>10</td>\n",
       "      <td>2023</td>\n",
       "      <td>14:17:00</td>\n",
       "      <td>5</td>\n",
       "      <td>26,40</td>\n",
       "      <td>9,24</td>\n",
       "      <td>3,43</td>\n",
       "      <td>13,73</td>\n",
       "    </tr>\n",
       "  </tbody>\n",
       "</table>\n",
       "<p>410000 rows × 21 columns</p>\n",
       "</div>"
      ],
      "text/plain": [
       "        InvoiceNo StockCode                           Description Size  \\\n",
       "0             245    78278Z                       Running 1/4 Zip  XXS   \n",
       "1             616    01000C  Lifting Lightweight 1/4 Zip Pullover    S   \n",
       "2             453    68522Z                Sport 5\" 2 In 1 Shorts    L   \n",
       "3             578    36909N                         Crest Joggers    M   \n",
       "4             863    53352X                        Crew Socks 5pk    M   \n",
       "...           ...       ...                                   ...  ...   \n",
       "409995     962809    13003A               Everyday Holdall Medium    S   \n",
       "409996     313539    30584H                      Elevate Leggings    M   \n",
       "409997     288199    57834W           Rest Day Essentials T-Shirt    S   \n",
       "409998      91653    22861Z                       Sport 7\" Shorts    S   \n",
       "409999     304362    75936V                           Studio Tank   XS   \n",
       "\n",
       "        Quantity         InvoiceDate  CustomerID Country Rating  \\\n",
       "0              2 2021-06-22 02:58:00        2344  Canada   4,50   \n",
       "1              2 2021-05-23 22:31:00       54001  Canada   5,00   \n",
       "2              1 2021-02-09 00:38:00       96003     USA   3,90   \n",
       "3              1 2021-05-08 15:54:00       34219      UK   4,40   \n",
       "4              2 2021-03-27 22:38:00       17438     USA   4,70   \n",
       "...          ...                 ...         ...     ...    ...   \n",
       "409995         3 2023-01-22 15:53:00       37575      UK   4,80   \n",
       "409996         3 2023-06-08 17:09:00        6728  Canada   5,00   \n",
       "409997         3 2023-11-25 00:00:00        6940      UK   4,70   \n",
       "409998         2 2023-11-16 09:09:00       69998     USA   5,00   \n",
       "409999         1 2023-10-07 14:17:00       16916     USA   5,00   \n",
       "\n",
       "                              Colour  ...    Category Day  Month  Year  \\\n",
       "0                          Plum Pink  ...       Women  22      6  2021   \n",
       "1                         Lido Green  ...       Women  23      5  2021   \n",
       "2                  Light Olive Green  ...       Women   9      2  2021   \n",
       "3                              Black  ...       Women   8      5  2021   \n",
       "4                              Black  ...  Accesorios  27      3  2021   \n",
       "...                              ...  ...         ...  ..    ...   ...   \n",
       "409995  Cherry Brown/Athletic Maroon  ...  Accesorios  22      1  2023   \n",
       "409996            Vanilla Brown Marl  ...       Women   8      6  2023   \n",
       "409997        Baked Maroon/Salsa Red  ...       Women  25     11  2023   \n",
       "409998                     Plum Pink  ...       Women  16     11  2023   \n",
       "409999                          Navy  ...         Men   7     10  2023   \n",
       "\n",
       "            Hour DayOfWeek   Total   Cost Profit Operational Costs  \n",
       "0       02:58:00         1   76,89  26,91  10,00             39,98  \n",
       "1       22:31:00         6   53,12  18,59   6,91             27,62  \n",
       "2       00:38:00         1   29,86  10,45   3,88             15,53  \n",
       "3       15:54:00         5   28,50   9,98   3,71             14,82  \n",
       "4       22:38:00         5   29,86  10,45   3,88             15,53  \n",
       "...          ...       ...     ...    ...    ...               ...  \n",
       "409995  15:53:00         6  173,25  60,64  22,52             90,09  \n",
       "409996  17:09:00         3  216,30  75,70  28,12            112,48  \n",
       "409997  00:00:00         5   80,64  28,22  10,48             41,93  \n",
       "409998  09:09:00         3   61,60  21,56   8,01             32,03  \n",
       "409999  14:17:00         5   26,40   9,24   3,43             13,73  \n",
       "\n",
       "[410000 rows x 21 columns]"
      ]
     },
     "execution_count": 63,
     "metadata": {},
     "output_type": "execute_result"
    }
   ],
   "source": [
    "sales_gymshark"
   ]
  },
  {
   "cell_type": "code",
   "execution_count": 64,
   "id": "a9d27ce7",
   "metadata": {},
   "outputs": [],
   "source": [
    "sales_gymshark.to_csv('sales_gymshark_clean2.csv', index=False)\n",
    "sales_gymshark.to_csv('sales_gymshark_PB.csv', index=False)"
   ]
  },
  {
   "cell_type": "markdown",
   "id": "ffa0f252",
   "metadata": {},
   "source": [
    "### DF Nº 2: CUSTOMERS 2023"
   ]
  },
  {
   "cell_type": "code",
   "execution_count": 18,
   "id": "1d6fe6c9",
   "metadata": {},
   "outputs": [],
   "source": [
    "# Importo el CSV de CUSTOMER resultante del fake\n",
    "customer = pd.read_csv('customer.csv')"
   ]
  },
  {
   "cell_type": "code",
   "execution_count": 19,
   "id": "2a71c1e0",
   "metadata": {},
   "outputs": [
    {
     "data": {
      "text/plain": [
       "100000"
      ]
     },
     "execution_count": 19,
     "metadata": {},
     "output_type": "execute_result"
    }
   ],
   "source": [
    "len(customer)"
   ]
  },
  {
   "cell_type": "code",
   "execution_count": 20,
   "id": "32c66b25",
   "metadata": {},
   "outputs": [
    {
     "data": {
      "text/plain": [
       "(100000, 6)"
      ]
     },
     "execution_count": 20,
     "metadata": {},
     "output_type": "execute_result"
    }
   ],
   "source": [
    "customer.shape"
   ]
  },
  {
   "cell_type": "code",
   "execution_count": 21,
   "id": "66da63a3",
   "metadata": {},
   "outputs": [
    {
     "data": {
      "text/plain": [
       "Index(['CustomerID', 'Name', 'Lastname', 'Age', 'Gender', 'Country'], dtype='object')"
      ]
     },
     "execution_count": 21,
     "metadata": {},
     "output_type": "execute_result"
    }
   ],
   "source": [
    "customer.columns"
   ]
  },
  {
   "cell_type": "code",
   "execution_count": 22,
   "id": "4d93e60f",
   "metadata": {
    "scrolled": false
   },
   "outputs": [
    {
     "data": {
      "text/plain": [
       "CustomerID    0\n",
       "Name          0\n",
       "Lastname      0\n",
       "Age           0\n",
       "Gender        0\n",
       "Country       0\n",
       "dtype: int64"
      ]
     },
     "execution_count": 22,
     "metadata": {},
     "output_type": "execute_result"
    }
   ],
   "source": [
    "customer.isnull().sum()"
   ]
  },
  {
   "cell_type": "code",
   "execution_count": 23,
   "id": "d1f8a99d",
   "metadata": {},
   "outputs": [
    {
     "data": {
      "text/plain": [
       "0"
      ]
     },
     "execution_count": 23,
     "metadata": {},
     "output_type": "execute_result"
    }
   ],
   "source": [
    "customer.duplicated().sum()"
   ]
  },
  {
   "cell_type": "code",
   "execution_count": null,
   "id": "ababbe30",
   "metadata": {},
   "outputs": [],
   "source": []
  }
 ],
 "metadata": {
  "kernelspec": {
   "display_name": "Python 3 (ipykernel)",
   "language": "python",
   "name": "python3"
  },
  "language_info": {
   "codemirror_mode": {
    "name": "ipython",
    "version": 3
   },
   "file_extension": ".py",
   "mimetype": "text/x-python",
   "name": "python",
   "nbconvert_exporter": "python",
   "pygments_lexer": "ipython3",
   "version": "3.11.5"
  }
 },
 "nbformat": 4,
 "nbformat_minor": 5
}
