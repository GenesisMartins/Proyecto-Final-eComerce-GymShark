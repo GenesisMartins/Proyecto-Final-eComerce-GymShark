{
 "cells": [
  {
   "cell_type": "markdown",
   "id": "12c7217e",
   "metadata": {},
   "source": [
    "## Proyecto final BOOTCAMP IRONHACK\n",
    "###### Estrategias de e-COMERCE\n",
    "\n",
    "COMPANY = GYMSHARK\n",
    "\n",
    "### PASO 3. ETL\n",
    "- website : https://eu.gymshark.com/"
   ]
  },
  {
   "cell_type": "code",
   "execution_count": 1,
   "id": "2cc5ab68",
   "metadata": {},
   "outputs": [],
   "source": [
    "import pandas as pd\n",
    "import numpy as np\n",
    "import seaborn as sns\n",
    "import matplotlib.pyplot as plt\n",
    "import matplotlib.ticker as ticker"
   ]
  },
  {
   "cell_type": "markdown",
   "id": "4dafdc63",
   "metadata": {},
   "source": [
    "### DF Nº1: SALES 2023"
   ]
  },
  {
   "cell_type": "code",
   "execution_count": 2,
   "id": "e9cc6ef6",
   "metadata": {
    "scrolled": true
   },
   "outputs": [],
   "source": [
    "# Importo el CSV de GYMSHARK SALES resultante del fake\n",
    "sales_gymshark23_total = pd.read_csv('sales_gymshark23_6np.csv')"
   ]
  },
  {
   "cell_type": "code",
   "execution_count": 3,
   "id": "086b0179",
   "metadata": {},
   "outputs": [
    {
     "data": {
      "text/plain": [
       "100000"
      ]
     },
     "execution_count": 3,
     "metadata": {},
     "output_type": "execute_result"
    }
   ],
   "source": [
    "len(sales_gymshark23_total)"
   ]
  },
  {
   "cell_type": "code",
   "execution_count": 4,
   "id": "0654b6a0",
   "metadata": {},
   "outputs": [
    {
     "data": {
      "text/plain": [
       "(100000, 12)"
      ]
     },
     "execution_count": 4,
     "metadata": {},
     "output_type": "execute_result"
    }
   ],
   "source": [
    "sales_gymshark23_total.shape"
   ]
  },
  {
   "cell_type": "code",
   "execution_count": 5,
   "id": "4b71de9a",
   "metadata": {
    "scrolled": true
   },
   "outputs": [
    {
     "name": "stdout",
     "output_type": "stream",
     "text": [
      "<class 'pandas.core.frame.DataFrame'>\n",
      "RangeIndex: 100000 entries, 0 to 99999\n",
      "Data columns (total 12 columns):\n",
      " #   Column       Non-Null Count   Dtype  \n",
      "---  ------       --------------   -----  \n",
      " 0   InvoiceNo    100000 non-null  int64  \n",
      " 1   StockCode    100000 non-null  object \n",
      " 2   Description  100000 non-null  object \n",
      " 3   Size         100000 non-null  object \n",
      " 4   Quantity     100000 non-null  int64  \n",
      " 5   InvoiceDate  100000 non-null  object \n",
      " 6   CustomerID   100000 non-null  int64  \n",
      " 7   Country      100000 non-null  object \n",
      " 8   Rating       92719 non-null   float64\n",
      " 9   Colour       99780 non-null   object \n",
      " 10  Price        100000 non-null  float64\n",
      " 11  Category     100000 non-null  object \n",
      "dtypes: float64(2), int64(3), object(7)\n",
      "memory usage: 9.2+ MB\n"
     ]
    }
   ],
   "source": [
    "sales_gymshark23_total.info()"
   ]
  },
  {
   "cell_type": "code",
   "execution_count": 6,
   "id": "0705d70e",
   "metadata": {},
   "outputs": [
    {
     "data": {
      "text/plain": [
       "Index(['InvoiceNo', 'StockCode', 'Description', 'Size', 'Quantity',\n",
       "       'InvoiceDate', 'CustomerID', 'Country', 'Rating', 'Colour', 'Price',\n",
       "       'Category'],\n",
       "      dtype='object')"
      ]
     },
     "execution_count": 6,
     "metadata": {},
     "output_type": "execute_result"
    }
   ],
   "source": [
    "sales_gymshark23_total.columns"
   ]
  },
  {
   "cell_type": "code",
   "execution_count": 7,
   "id": "ddfd49b9",
   "metadata": {},
   "outputs": [
    {
     "data": {
      "text/plain": [
       "InvoiceNo         0\n",
       "StockCode         0\n",
       "Description       0\n",
       "Size              0\n",
       "Quantity          0\n",
       "InvoiceDate       0\n",
       "CustomerID        0\n",
       "Country           0\n",
       "Rating         7281\n",
       "Colour          220\n",
       "Price             0\n",
       "Category          0\n",
       "dtype: int64"
      ]
     },
     "execution_count": 7,
     "metadata": {},
     "output_type": "execute_result"
    }
   ],
   "source": [
    "sales_gymshark23_total.isnull().sum()"
   ]
  },
  {
   "cell_type": "code",
   "execution_count": 8,
   "id": "046400a5",
   "metadata": {},
   "outputs": [],
   "source": [
    "# RELLENAR NULOS DE LAS COLUMNAS \"Rating\" Y \"Colour\"\n",
    "\n",
    "# Rellenar valores nulos en la columna \"Rating\" con 0, son productos que nunca ha sido rankeados por los clientes.\n",
    "sales_gymshark23_total['Rating'] = sales_gymshark23_total['Rating'].fillna(0)\n",
    "\n",
    "# Rellenar valores nulos en la columna \"Colour\" con \"multicolored\"\n",
    "sales_gymshark23_total['Colour'] = sales_gymshark23_total['Colour'].fillna('multicolored')\n"
   ]
  },
  {
   "cell_type": "code",
   "execution_count": 9,
   "id": "c040fd2c",
   "metadata": {},
   "outputs": [
    {
     "data": {
      "text/plain": [
       "InvoiceNo      0\n",
       "StockCode      0\n",
       "Description    0\n",
       "Size           0\n",
       "Quantity       0\n",
       "InvoiceDate    0\n",
       "CustomerID     0\n",
       "Country        0\n",
       "Rating         0\n",
       "Colour         0\n",
       "Price          0\n",
       "Category       0\n",
       "dtype: int64"
      ]
     },
     "execution_count": 9,
     "metadata": {},
     "output_type": "execute_result"
    }
   ],
   "source": [
    "sales_gymshark23_total.isnull().sum()"
   ]
  },
  {
   "cell_type": "code",
   "execution_count": 10,
   "id": "9caffdbc",
   "metadata": {},
   "outputs": [
    {
     "data": {
      "text/plain": [
       "0"
      ]
     },
     "execution_count": 10,
     "metadata": {},
     "output_type": "execute_result"
    }
   ],
   "source": [
    "sales_gymshark23_total.duplicated().sum()"
   ]
  },
  {
   "cell_type": "code",
   "execution_count": 13,
   "id": "d881e703",
   "metadata": {},
   "outputs": [
    {
     "data": {
      "text/html": [
       "<div>\n",
       "<style scoped>\n",
       "    .dataframe tbody tr th:only-of-type {\n",
       "        vertical-align: middle;\n",
       "    }\n",
       "\n",
       "    .dataframe tbody tr th {\n",
       "        vertical-align: top;\n",
       "    }\n",
       "\n",
       "    .dataframe thead th {\n",
       "        text-align: right;\n",
       "    }\n",
       "</style>\n",
       "<table border=\"1\" class=\"dataframe\">\n",
       "  <thead>\n",
       "    <tr style=\"text-align: right;\">\n",
       "      <th></th>\n",
       "      <th>InvoiceNo</th>\n",
       "      <th>StockCode</th>\n",
       "      <th>Description</th>\n",
       "      <th>Size</th>\n",
       "      <th>Quantity</th>\n",
       "      <th>InvoiceDate</th>\n",
       "      <th>CustomerID</th>\n",
       "      <th>Country</th>\n",
       "      <th>Rating</th>\n",
       "      <th>Colour</th>\n",
       "      <th>Price</th>\n",
       "      <th>Category</th>\n",
       "      <th>Day</th>\n",
       "      <th>Month</th>\n",
       "      <th>Year</th>\n",
       "      <th>Hour</th>\n",
       "      <th>DayOfWeek</th>\n",
       "    </tr>\n",
       "  </thead>\n",
       "  <tbody>\n",
       "    <tr>\n",
       "      <th>0</th>\n",
       "      <td>282618</td>\n",
       "      <td>76203V</td>\n",
       "      <td>Apex T-Shirt</td>\n",
       "      <td>L</td>\n",
       "      <td>1</td>\n",
       "      <td>2023-11-22 11:30:00</td>\n",
       "      <td>17849</td>\n",
       "      <td>Australia</td>\n",
       "      <td>4.5</td>\n",
       "      <td>River Stone Grey/Drift Grey</td>\n",
       "      <td>34.04</td>\n",
       "      <td>Men</td>\n",
       "      <td>22</td>\n",
       "      <td>11</td>\n",
       "      <td>2023</td>\n",
       "      <td>11:30:00</td>\n",
       "      <td>2</td>\n",
       "    </tr>\n",
       "    <tr>\n",
       "      <th>1</th>\n",
       "      <td>178838</td>\n",
       "      <td>43343R</td>\n",
       "      <td>Pursuit Duffle Bag</td>\n",
       "      <td>M</td>\n",
       "      <td>3</td>\n",
       "      <td>2023-12-25 11:54:00</td>\n",
       "      <td>90379</td>\n",
       "      <td>USA</td>\n",
       "      <td>4.6</td>\n",
       "      <td>Black/White</td>\n",
       "      <td>91.96</td>\n",
       "      <td>Women</td>\n",
       "      <td>25</td>\n",
       "      <td>12</td>\n",
       "      <td>2023</td>\n",
       "      <td>11:54:00</td>\n",
       "      <td>0</td>\n",
       "    </tr>\n",
       "    <tr>\n",
       "      <th>2</th>\n",
       "      <td>317707</td>\n",
       "      <td>11168Y</td>\n",
       "      <td>Everyday Mini Backpack</td>\n",
       "      <td>L</td>\n",
       "      <td>1</td>\n",
       "      <td>2023-03-30 09:05:00</td>\n",
       "      <td>73114</td>\n",
       "      <td>UK</td>\n",
       "      <td>0.0</td>\n",
       "      <td>Dusk Green</td>\n",
       "      <td>31.50</td>\n",
       "      <td>Women</td>\n",
       "      <td>30</td>\n",
       "      <td>3</td>\n",
       "      <td>2023</td>\n",
       "      <td>09:05:00</td>\n",
       "      <td>3</td>\n",
       "    </tr>\n",
       "    <tr>\n",
       "      <th>3</th>\n",
       "      <td>998032</td>\n",
       "      <td>21561X</td>\n",
       "      <td>No Show Performance Socks</td>\n",
       "      <td>S</td>\n",
       "      <td>6</td>\n",
       "      <td>2023-02-21 15:44:00</td>\n",
       "      <td>21105</td>\n",
       "      <td>USA</td>\n",
       "      <td>5.0</td>\n",
       "      <td>Plum Pink Marl</td>\n",
       "      <td>9.90</td>\n",
       "      <td>Men</td>\n",
       "      <td>21</td>\n",
       "      <td>2</td>\n",
       "      <td>2023</td>\n",
       "      <td>15:44:00</td>\n",
       "      <td>1</td>\n",
       "    </tr>\n",
       "    <tr>\n",
       "      <th>4</th>\n",
       "      <td>986803</td>\n",
       "      <td>64146P</td>\n",
       "      <td>GS X Libby Shorts</td>\n",
       "      <td>L</td>\n",
       "      <td>1</td>\n",
       "      <td>2023-03-12 09:29:00</td>\n",
       "      <td>23910</td>\n",
       "      <td>USA</td>\n",
       "      <td>4.2</td>\n",
       "      <td>Camo Brown</td>\n",
       "      <td>44.00</td>\n",
       "      <td>Men</td>\n",
       "      <td>12</td>\n",
       "      <td>3</td>\n",
       "      <td>2023</td>\n",
       "      <td>09:29:00</td>\n",
       "      <td>6</td>\n",
       "    </tr>\n",
       "  </tbody>\n",
       "</table>\n",
       "</div>"
      ],
      "text/plain": [
       "   InvoiceNo StockCode                Description Size  Quantity  \\\n",
       "0     282618    76203V               Apex T-Shirt    L         1   \n",
       "1     178838    43343R         Pursuit Duffle Bag    M         3   \n",
       "2     317707    11168Y     Everyday Mini Backpack    L         1   \n",
       "3     998032    21561X  No Show Performance Socks    S         6   \n",
       "4     986803    64146P          GS X Libby Shorts    L         1   \n",
       "\n",
       "          InvoiceDate  CustomerID    Country  Rating  \\\n",
       "0 2023-11-22 11:30:00       17849  Australia     4.5   \n",
       "1 2023-12-25 11:54:00       90379        USA     4.6   \n",
       "2 2023-03-30 09:05:00       73114         UK     0.0   \n",
       "3 2023-02-21 15:44:00       21105        USA     5.0   \n",
       "4 2023-03-12 09:29:00       23910        USA     4.2   \n",
       "\n",
       "                        Colour  Price Category  Day  Month  Year      Hour  \\\n",
       "0  River Stone Grey/Drift Grey  34.04      Men   22     11  2023  11:30:00   \n",
       "1                  Black/White  91.96    Women   25     12  2023  11:54:00   \n",
       "2                   Dusk Green  31.50    Women   30      3  2023  09:05:00   \n",
       "3               Plum Pink Marl   9.90      Men   21      2  2023  15:44:00   \n",
       "4                   Camo Brown  44.00      Men   12      3  2023  09:29:00   \n",
       "\n",
       "   DayOfWeek  \n",
       "0          2  \n",
       "1          0  \n",
       "2          3  \n",
       "3          1  \n",
       "4          6  "
      ]
     },
     "execution_count": 13,
     "metadata": {},
     "output_type": "execute_result"
    }
   ],
   "source": [
    "# Convertir 'InvoiceDate' a formato de fecha y hora\n",
    "sales_gymshark23_total['InvoiceDate'] = pd.to_datetime(sales_gymshark23_total['InvoiceDate'], format='%m-%d-%Y %A %H:%M')\n",
    "\n",
    "# Separar la columna 'InvoiceDate' en fecha y hora\n",
    "sales_gymshark23_total['Day'] = sales_gymshark23_total['InvoiceDate'].dt.day\n",
    "sales_gymshark23_total['Month'] = sales_gymshark23_total['InvoiceDate'].dt.month\n",
    "sales_gymshark23_total['Year'] = sales_gymshark23_total['InvoiceDate'].dt.year\n",
    "sales_gymshark23_total['Hour'] = sales_gymshark23_total['InvoiceDate'].dt.strftime('%H:%M:%S')\n",
    "sales_gymshark23_total['DayOfWeek'] = sales_gymshark23_total['InvoiceDate'].dt.dayofweek\n",
    "\n",
    "\n",
    "# Mostrar las primeras filas\n",
    "sales_gymshark23_total.head()\n"
   ]
  },
  {
   "cell_type": "code",
   "execution_count": 14,
   "id": "a9d27ce7",
   "metadata": {},
   "outputs": [],
   "source": [
    "sales_gymshark23_total.to_csv('sales_gymshark_clean2.csv', index=False)"
   ]
  },
  {
   "cell_type": "markdown",
   "id": "ffa0f252",
   "metadata": {},
   "source": [
    "### DF Nº 2: CUSTOMERS 2023"
   ]
  },
  {
   "cell_type": "code",
   "execution_count": 15,
   "id": "1d6fe6c9",
   "metadata": {},
   "outputs": [],
   "source": [
    "# Importo el CSV de CUSTOMER resultante del fake\n",
    "customer = pd.read_csv('customer.csv')"
   ]
  },
  {
   "cell_type": "code",
   "execution_count": 16,
   "id": "2a71c1e0",
   "metadata": {},
   "outputs": [
    {
     "data": {
      "text/plain": [
       "100000"
      ]
     },
     "execution_count": 16,
     "metadata": {},
     "output_type": "execute_result"
    }
   ],
   "source": [
    "len(customer)"
   ]
  },
  {
   "cell_type": "code",
   "execution_count": 17,
   "id": "32c66b25",
   "metadata": {},
   "outputs": [
    {
     "data": {
      "text/plain": [
       "(100000, 6)"
      ]
     },
     "execution_count": 17,
     "metadata": {},
     "output_type": "execute_result"
    }
   ],
   "source": [
    "customer.shape"
   ]
  },
  {
   "cell_type": "code",
   "execution_count": 18,
   "id": "66da63a3",
   "metadata": {},
   "outputs": [
    {
     "data": {
      "text/plain": [
       "Index(['CustomerID', 'Name', 'Lastname', 'Age', 'Gender', 'Country'], dtype='object')"
      ]
     },
     "execution_count": 18,
     "metadata": {},
     "output_type": "execute_result"
    }
   ],
   "source": [
    "customer.columns"
   ]
  },
  {
   "cell_type": "code",
   "execution_count": 19,
   "id": "4d93e60f",
   "metadata": {
    "scrolled": true
   },
   "outputs": [
    {
     "data": {
      "text/plain": [
       "CustomerID    0\n",
       "Name          0\n",
       "Lastname      0\n",
       "Age           0\n",
       "Gender        0\n",
       "Country       0\n",
       "dtype: int64"
      ]
     },
     "execution_count": 19,
     "metadata": {},
     "output_type": "execute_result"
    }
   ],
   "source": [
    "customer.isnull().sum()"
   ]
  },
  {
   "cell_type": "code",
   "execution_count": 20,
   "id": "d1f8a99d",
   "metadata": {},
   "outputs": [
    {
     "data": {
      "text/plain": [
       "0"
      ]
     },
     "execution_count": 20,
     "metadata": {},
     "output_type": "execute_result"
    }
   ],
   "source": [
    "customer.duplicated().sum()"
   ]
  }
 ],
 "metadata": {
  "kernelspec": {
   "display_name": "Python 3 (ipykernel)",
   "language": "python",
   "name": "python3"
  },
  "language_info": {
   "codemirror_mode": {
    "name": "ipython",
    "version": 3
   },
   "file_extension": ".py",
   "mimetype": "text/x-python",
   "name": "python",
   "nbconvert_exporter": "python",
   "pygments_lexer": "ipython3",
   "version": "3.11.5"
  }
 },
 "nbformat": 4,
 "nbformat_minor": 5
}
