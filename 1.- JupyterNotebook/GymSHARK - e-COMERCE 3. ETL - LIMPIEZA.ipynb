{
 "cells": [
  {
   "cell_type": "markdown",
   "id": "12c7217e",
   "metadata": {},
   "source": [
    "## Proyecto final BOOTCAMP IRONHACK\n",
    "###### Estrategias de e-COMERCE\n",
    "\n",
    "COMPANY = GYMSHARK\n",
    "\n",
    "### PASO 3. ETL\n",
    "- website : https://eu.gymshark.com/"
   ]
  },
  {
   "cell_type": "code",
   "execution_count": 106,
   "id": "2cc5ab68",
   "metadata": {},
   "outputs": [],
   "source": [
    "import pandas as pd\n",
    "import numpy as np\n",
    "import seaborn as sns\n",
    "import matplotlib.pyplot as plt\n",
    "import matplotlib.ticker as ticker"
   ]
  },
  {
   "cell_type": "markdown",
   "id": "4dafdc63",
   "metadata": {},
   "source": [
    "### DF Nº1: SALES 2023"
   ]
  },
  {
   "cell_type": "code",
   "execution_count": 107,
   "id": "e9cc6ef6",
   "metadata": {
    "scrolled": true
   },
   "outputs": [],
   "source": [
    "# Importo el CSV de GYMSHARK SALES resultante del fake\n",
    "sales_gymshark = pd.read_csv('sales_gymshark.concat.csv')"
   ]
  },
  {
   "cell_type": "code",
   "execution_count": 108,
   "id": "086b0179",
   "metadata": {},
   "outputs": [
    {
     "data": {
      "text/plain": [
       "410000"
      ]
     },
     "execution_count": 108,
     "metadata": {},
     "output_type": "execute_result"
    }
   ],
   "source": [
    "len(sales_gymshark)"
   ]
  },
  {
   "cell_type": "code",
   "execution_count": 109,
   "id": "0654b6a0",
   "metadata": {},
   "outputs": [
    {
     "data": {
      "text/plain": [
       "(410000, 12)"
      ]
     },
     "execution_count": 109,
     "metadata": {},
     "output_type": "execute_result"
    }
   ],
   "source": [
    "sales_gymshark.shape"
   ]
  },
  {
   "cell_type": "code",
   "execution_count": 110,
   "id": "4b71de9a",
   "metadata": {
    "scrolled": true
   },
   "outputs": [
    {
     "name": "stdout",
     "output_type": "stream",
     "text": [
      "<class 'pandas.core.frame.DataFrame'>\n",
      "RangeIndex: 410000 entries, 0 to 409999\n",
      "Data columns (total 12 columns):\n",
      " #   Column       Non-Null Count   Dtype  \n",
      "---  ------       --------------   -----  \n",
      " 0   InvoiceNo    410000 non-null  int64  \n",
      " 1   StockCode    410000 non-null  object \n",
      " 2   Description  410000 non-null  object \n",
      " 3   Size         410000 non-null  object \n",
      " 4   Quantity     410000 non-null  int64  \n",
      " 5   InvoiceDate  410000 non-null  object \n",
      " 6   CustomerID   410000 non-null  int64  \n",
      " 7   Country      410000 non-null  object \n",
      " 8   Rating       379996 non-null  float64\n",
      " 9   Colour       409078 non-null  object \n",
      " 10  Price        410000 non-null  float64\n",
      " 11  Category     410000 non-null  object \n",
      "dtypes: float64(2), int64(3), object(7)\n",
      "memory usage: 37.5+ MB\n"
     ]
    }
   ],
   "source": [
    "sales_gymshark.info()"
   ]
  },
  {
   "cell_type": "code",
   "execution_count": 111,
   "id": "0705d70e",
   "metadata": {},
   "outputs": [
    {
     "data": {
      "text/plain": [
       "Index(['InvoiceNo', 'StockCode', 'Description', 'Size', 'Quantity',\n",
       "       'InvoiceDate', 'CustomerID', 'Country', 'Rating', 'Colour', 'Price',\n",
       "       'Category'],\n",
       "      dtype='object')"
      ]
     },
     "execution_count": 111,
     "metadata": {},
     "output_type": "execute_result"
    }
   ],
   "source": [
    "sales_gymshark.columns"
   ]
  },
  {
   "cell_type": "code",
   "execution_count": 112,
   "id": "ddfd49b9",
   "metadata": {},
   "outputs": [
    {
     "data": {
      "text/plain": [
       "InvoiceNo          0\n",
       "StockCode          0\n",
       "Description        0\n",
       "Size               0\n",
       "Quantity           0\n",
       "InvoiceDate        0\n",
       "CustomerID         0\n",
       "Country            0\n",
       "Rating         30004\n",
       "Colour           922\n",
       "Price              0\n",
       "Category           0\n",
       "dtype: int64"
      ]
     },
     "execution_count": 112,
     "metadata": {},
     "output_type": "execute_result"
    }
   ],
   "source": [
    "sales_gymshark.isnull().sum()"
   ]
  },
  {
   "cell_type": "code",
   "execution_count": 113,
   "id": "046400a5",
   "metadata": {},
   "outputs": [],
   "source": [
    "# RELLENAR NULOS DE LAS COLUMNAS \"Rating\" Y \"Colour\"\n",
    "\n",
    "# Rellenar valores nulos en la columna \"Rating\" con 0, son productos que nunca ha sido rankeados por los clientes.\n",
    "sales_gymshark['Rating'] = sales_gymshark['Rating'].fillna(0)\n",
    "\n",
    "# Rellenar valores nulos en la columna \"Colour\" con \"multicolored\"\n",
    "sales_gymshark['Colour'] = sales_gymshark['Colour'].fillna('multicolored')\n"
   ]
  },
  {
   "cell_type": "code",
   "execution_count": 114,
   "id": "c040fd2c",
   "metadata": {},
   "outputs": [
    {
     "data": {
      "text/plain": [
       "InvoiceNo      0\n",
       "StockCode      0\n",
       "Description    0\n",
       "Size           0\n",
       "Quantity       0\n",
       "InvoiceDate    0\n",
       "CustomerID     0\n",
       "Country        0\n",
       "Rating         0\n",
       "Colour         0\n",
       "Price          0\n",
       "Category       0\n",
       "dtype: int64"
      ]
     },
     "execution_count": 114,
     "metadata": {},
     "output_type": "execute_result"
    }
   ],
   "source": [
    "sales_gymshark.isnull().sum()"
   ]
  },
  {
   "cell_type": "code",
   "execution_count": 115,
   "id": "9caffdbc",
   "metadata": {},
   "outputs": [
    {
     "data": {
      "text/plain": [
       "0"
      ]
     },
     "execution_count": 115,
     "metadata": {},
     "output_type": "execute_result"
    }
   ],
   "source": [
    "sales_gymshark.duplicated().sum()"
   ]
  },
  {
   "cell_type": "code",
   "execution_count": 116,
   "id": "d881e703",
   "metadata": {
    "scrolled": true
   },
   "outputs": [
    {
     "data": {
      "text/html": [
       "<div>\n",
       "<style scoped>\n",
       "    .dataframe tbody tr th:only-of-type {\n",
       "        vertical-align: middle;\n",
       "    }\n",
       "\n",
       "    .dataframe tbody tr th {\n",
       "        vertical-align: top;\n",
       "    }\n",
       "\n",
       "    .dataframe thead th {\n",
       "        text-align: right;\n",
       "    }\n",
       "</style>\n",
       "<table border=\"1\" class=\"dataframe\">\n",
       "  <thead>\n",
       "    <tr style=\"text-align: right;\">\n",
       "      <th></th>\n",
       "      <th>InvoiceNo</th>\n",
       "      <th>StockCode</th>\n",
       "      <th>Description</th>\n",
       "      <th>Size</th>\n",
       "      <th>Quantity</th>\n",
       "      <th>InvoiceDate</th>\n",
       "      <th>CustomerID</th>\n",
       "      <th>Country</th>\n",
       "      <th>Rating</th>\n",
       "      <th>Colour</th>\n",
       "      <th>Price</th>\n",
       "      <th>Category</th>\n",
       "      <th>Day</th>\n",
       "      <th>Month</th>\n",
       "      <th>Year</th>\n",
       "      <th>Hour</th>\n",
       "      <th>DayOfWeek</th>\n",
       "    </tr>\n",
       "  </thead>\n",
       "  <tbody>\n",
       "    <tr>\n",
       "      <th>0</th>\n",
       "      <td>887</td>\n",
       "      <td>80691I</td>\n",
       "      <td>Heavyweight 1/4 Zip</td>\n",
       "      <td>XXS</td>\n",
       "      <td>1</td>\n",
       "      <td>2022-09-11 14:53:00</td>\n",
       "      <td>23521</td>\n",
       "      <td>Canada</td>\n",
       "      <td>0.0</td>\n",
       "      <td>Camo Brown</td>\n",
       "      <td>25.089517</td>\n",
       "      <td>Women</td>\n",
       "      <td>11</td>\n",
       "      <td>9</td>\n",
       "      <td>2022</td>\n",
       "      <td>14:53:00</td>\n",
       "      <td>6</td>\n",
       "    </tr>\n",
       "    <tr>\n",
       "      <th>1</th>\n",
       "      <td>416</td>\n",
       "      <td>13669R</td>\n",
       "      <td>Sport 5\" Shorts</td>\n",
       "      <td>M</td>\n",
       "      <td>1</td>\n",
       "      <td>2022-02-20 23:54:00</td>\n",
       "      <td>56786</td>\n",
       "      <td>UK</td>\n",
       "      <td>0.0</td>\n",
       "      <td>Black Marl</td>\n",
       "      <td>10.404078</td>\n",
       "      <td>Women</td>\n",
       "      <td>20</td>\n",
       "      <td>2</td>\n",
       "      <td>2022</td>\n",
       "      <td>23:54:00</td>\n",
       "      <td>6</td>\n",
       "    </tr>\n",
       "    <tr>\n",
       "      <th>2</th>\n",
       "      <td>130</td>\n",
       "      <td>55386H</td>\n",
       "      <td>Arrival Woven Joggers</td>\n",
       "      <td>L</td>\n",
       "      <td>2</td>\n",
       "      <td>2022-04-26 02:17:00</td>\n",
       "      <td>59848</td>\n",
       "      <td>Germany</td>\n",
       "      <td>4.1</td>\n",
       "      <td>Stone Grey</td>\n",
       "      <td>14.879483</td>\n",
       "      <td>Men</td>\n",
       "      <td>26</td>\n",
       "      <td>4</td>\n",
       "      <td>2022</td>\n",
       "      <td>02:17:00</td>\n",
       "      <td>1</td>\n",
       "    </tr>\n",
       "    <tr>\n",
       "      <th>3</th>\n",
       "      <td>241</td>\n",
       "      <td>58064D</td>\n",
       "      <td>Built Graphic Joggers</td>\n",
       "      <td>L</td>\n",
       "      <td>3</td>\n",
       "      <td>2022-11-05 05:07:00</td>\n",
       "      <td>7797</td>\n",
       "      <td>UK</td>\n",
       "      <td>1.0</td>\n",
       "      <td>Force Green/Faded Green Marl</td>\n",
       "      <td>12.744996</td>\n",
       "      <td>Women</td>\n",
       "      <td>5</td>\n",
       "      <td>11</td>\n",
       "      <td>2022</td>\n",
       "      <td>05:07:00</td>\n",
       "      <td>5</td>\n",
       "    </tr>\n",
       "    <tr>\n",
       "      <th>4</th>\n",
       "      <td>405</td>\n",
       "      <td>12602O</td>\n",
       "      <td>Studio Tank</td>\n",
       "      <td>M</td>\n",
       "      <td>1</td>\n",
       "      <td>2022-12-17 16:00:00</td>\n",
       "      <td>38795</td>\n",
       "      <td>USA</td>\n",
       "      <td>4.2</td>\n",
       "      <td>Denim Teal</td>\n",
       "      <td>11.989461</td>\n",
       "      <td>Women</td>\n",
       "      <td>17</td>\n",
       "      <td>12</td>\n",
       "      <td>2022</td>\n",
       "      <td>16:00:00</td>\n",
       "      <td>5</td>\n",
       "    </tr>\n",
       "  </tbody>\n",
       "</table>\n",
       "</div>"
      ],
      "text/plain": [
       "   InvoiceNo StockCode            Description Size  Quantity  \\\n",
       "0        887    80691I    Heavyweight 1/4 Zip  XXS         1   \n",
       "1        416    13669R        Sport 5\" Shorts    M         1   \n",
       "2        130    55386H  Arrival Woven Joggers    L         2   \n",
       "3        241    58064D  Built Graphic Joggers    L         3   \n",
       "4        405    12602O            Studio Tank    M         1   \n",
       "\n",
       "          InvoiceDate  CustomerID  Country  Rating  \\\n",
       "0 2022-09-11 14:53:00       23521   Canada     0.0   \n",
       "1 2022-02-20 23:54:00       56786       UK     0.0   \n",
       "2 2022-04-26 02:17:00       59848  Germany     4.1   \n",
       "3 2022-11-05 05:07:00        7797       UK     1.0   \n",
       "4 2022-12-17 16:00:00       38795      USA     4.2   \n",
       "\n",
       "                         Colour      Price Category  Day  Month  Year  \\\n",
       "0                    Camo Brown  25.089517    Women   11      9  2022   \n",
       "1                    Black Marl  10.404078    Women   20      2  2022   \n",
       "2                    Stone Grey  14.879483      Men   26      4  2022   \n",
       "3  Force Green/Faded Green Marl  12.744996    Women    5     11  2022   \n",
       "4                    Denim Teal  11.989461    Women   17     12  2022   \n",
       "\n",
       "       Hour  DayOfWeek  \n",
       "0  14:53:00          6  \n",
       "1  23:54:00          6  \n",
       "2  02:17:00          1  \n",
       "3  05:07:00          5  \n",
       "4  16:00:00          5  "
      ]
     },
     "execution_count": 116,
     "metadata": {},
     "output_type": "execute_result"
    }
   ],
   "source": [
    "# Convertir 'InvoiceDate' a formato de fecha y hora\n",
    "sales_gymshark['InvoiceDate'] = pd.to_datetime(sales_gymshark['InvoiceDate'], format='%m-%d-%Y %A %H:%M')\n",
    "\n",
    "# Separar la columna 'InvoiceDate' en fecha y hora\n",
    "sales_gymshark['Day'] = sales_gymshark['InvoiceDate'].dt.day\n",
    "sales_gymshark['Month'] = sales_gymshark['InvoiceDate'].dt.month\n",
    "sales_gymshark['Year'] = sales_gymshark['InvoiceDate'].dt.year\n",
    "sales_gymshark['Hour'] = sales_gymshark['InvoiceDate'].dt.strftime('%H:%M:%S')\n",
    "sales_gymshark['DayOfWeek'] = sales_gymshark['InvoiceDate'].dt.dayofweek\n",
    "\n",
    "\n",
    "# Mostrar las primeras filas\n",
    "sales_gymshark.head()\n"
   ]
  },
  {
   "cell_type": "markdown",
   "id": "23fec8e6",
   "metadata": {},
   "source": [
    "### PROCEDO A CREAR COLUMNAS QUE NECESITO PARA ANALISIS:"
   ]
  },
  {
   "cell_type": "code",
   "execution_count": 117,
   "id": "90977b25",
   "metadata": {},
   "outputs": [],
   "source": [
    "# Eliminar comas como separadores de miles en las columnas 'Quantity' y 'Price'\n",
    "sales_gymshark['Quantity'] = sales_gymshark['Quantity'].astype(str).str.replace(',', '')\n",
    "sales_gymshark['Price'] = sales_gymshark['Price'].astype(str).str.replace(',', '')\n",
    "\n",
    "# Convertir las columnas 'Price' a tipo de dato float\n",
    "# Convertir la columna 'Quantity' a tipo de datos entero\n",
    "sales_gymshark['Quantity'] = sales_gymshark['Quantity'].astype(int)\n",
    "\n",
    "sales_gymshark['Price'] = sales_gymshark['Price'].astype(float)\n",
    "\n",
    "# Realizar la multiplicación y redondear el resultado a dos decimales\n",
    "sales_gymshark['Total'] = (sales_gymshark['Quantity'] * sales_gymshark['Price']).round(2)\n",
    "\n",
    "# Convertir nuevamente a formato con coma como separador de miles y punto como separador decimal\n",
    "sales_gymshark['Total'] = sales_gymshark['Total'].apply(lambda x: '{:,.2f}'.format(x))\n",
    "\n",
    "# Reemplazar el punto por coma en la columna 'Rating'\n",
    "sales_gymshark['Rating'] = sales_gymshark['Rating'].astype(str).str.replace('.', ',')\n",
    "\n",
    "# Eliminar comas como separadores de miles en la columna 'Total'\n",
    "sales_gymshark['Total'] = sales_gymshark['Total'].str.replace(',', '')\n",
    "\n",
    "# Convertir la columna 'Total' a tipo de datos float\n",
    "sales_gymshark['Total'] = sales_gymshark['Total'].astype(float)\n",
    "\n",
    "# Reemplazar el punto por coma en la columna 'Rating'\n",
    "sales_gymshark['Rating'] = sales_gymshark['Rating'].astype(str).str.replace('.', ',')\n"
   ]
  },
  {
   "cell_type": "code",
   "execution_count": 120,
   "id": "054c7d87",
   "metadata": {},
   "outputs": [],
   "source": [
    "# Calcular el coste, la utilidad y los gastos operacionales\n",
    "sales_gymshark['Total ingresos'] = sales_gymshark['Quantity'] * sales_gymshark['Price'].round(2)\n",
    "sales_gymshark['Coste'] = (sales_gymshark['Total ingresos'] * 0.35).round(2)\n",
    "sales_gymshark['Utilidad'] = (sales_gymshark['Total ingresos'] * 0.13).round(2)\n",
    "sales_gymshark['Gastos Operacionales'] = (sales_gymshark['Total ingresos'] * 0.52).round(2)\n",
    "\n",
    "# Reemplazar el punto por coma en las columnas 'Total', 'Coste', 'Utilidad' y 'Gastos Operacionales'\n",
    "sales_gymshark['Total'] = sales_gymshark['Total'].astype(str).str.replace('.', ',')\n",
    "sales_gymshark['Coste'] = sales_gymshark['Coste'].astype(str).str.replace('.', ',')\n",
    "sales_gymshark['Utilidad'] = sales_gymshark['Utilidad'].astype(str).str.replace('.', ',')\n",
    "sales_gymshark['Gastos Operacionales'] = sales_gymshark['Gastos Operacionales'].astype(str).str.replace('.', ',')\n"
   ]
  },
  {
   "cell_type": "code",
   "execution_count": 121,
   "id": "2a44f7ae",
   "metadata": {},
   "outputs": [
    {
     "data": {
      "text/html": [
       "<div>\n",
       "<style scoped>\n",
       "    .dataframe tbody tr th:only-of-type {\n",
       "        vertical-align: middle;\n",
       "    }\n",
       "\n",
       "    .dataframe tbody tr th {\n",
       "        vertical-align: top;\n",
       "    }\n",
       "\n",
       "    .dataframe thead th {\n",
       "        text-align: right;\n",
       "    }\n",
       "</style>\n",
       "<table border=\"1\" class=\"dataframe\">\n",
       "  <thead>\n",
       "    <tr style=\"text-align: right;\">\n",
       "      <th></th>\n",
       "      <th>InvoiceNo</th>\n",
       "      <th>StockCode</th>\n",
       "      <th>Description</th>\n",
       "      <th>Size</th>\n",
       "      <th>Quantity</th>\n",
       "      <th>InvoiceDate</th>\n",
       "      <th>CustomerID</th>\n",
       "      <th>Country</th>\n",
       "      <th>Rating</th>\n",
       "      <th>Colour</th>\n",
       "      <th>...</th>\n",
       "      <th>Day</th>\n",
       "      <th>Month</th>\n",
       "      <th>Year</th>\n",
       "      <th>Hour</th>\n",
       "      <th>DayOfWeek</th>\n",
       "      <th>Total</th>\n",
       "      <th>Total ingresos</th>\n",
       "      <th>Coste</th>\n",
       "      <th>Utilidad</th>\n",
       "      <th>Gastos Operacionales</th>\n",
       "    </tr>\n",
       "  </thead>\n",
       "  <tbody>\n",
       "    <tr>\n",
       "      <th>0</th>\n",
       "      <td>887</td>\n",
       "      <td>80691I</td>\n",
       "      <td>Heavyweight 1/4 Zip</td>\n",
       "      <td>XXS</td>\n",
       "      <td>1</td>\n",
       "      <td>2022-09-11 14:53:00</td>\n",
       "      <td>23521</td>\n",
       "      <td>Canada</td>\n",
       "      <td>0,0</td>\n",
       "      <td>Camo Brown</td>\n",
       "      <td>...</td>\n",
       "      <td>11</td>\n",
       "      <td>9</td>\n",
       "      <td>2022</td>\n",
       "      <td>14:53:00</td>\n",
       "      <td>6</td>\n",
       "      <td>25,09</td>\n",
       "      <td>25.09</td>\n",
       "      <td>8,78</td>\n",
       "      <td>3,26</td>\n",
       "      <td>13,05</td>\n",
       "    </tr>\n",
       "    <tr>\n",
       "      <th>1</th>\n",
       "      <td>416</td>\n",
       "      <td>13669R</td>\n",
       "      <td>Sport 5\" Shorts</td>\n",
       "      <td>M</td>\n",
       "      <td>1</td>\n",
       "      <td>2022-02-20 23:54:00</td>\n",
       "      <td>56786</td>\n",
       "      <td>UK</td>\n",
       "      <td>0,0</td>\n",
       "      <td>Black Marl</td>\n",
       "      <td>...</td>\n",
       "      <td>20</td>\n",
       "      <td>2</td>\n",
       "      <td>2022</td>\n",
       "      <td>23:54:00</td>\n",
       "      <td>6</td>\n",
       "      <td>10,4</td>\n",
       "      <td>10.40</td>\n",
       "      <td>3,64</td>\n",
       "      <td>1,35</td>\n",
       "      <td>5,41</td>\n",
       "    </tr>\n",
       "    <tr>\n",
       "      <th>2</th>\n",
       "      <td>130</td>\n",
       "      <td>55386H</td>\n",
       "      <td>Arrival Woven Joggers</td>\n",
       "      <td>L</td>\n",
       "      <td>2</td>\n",
       "      <td>2022-04-26 02:17:00</td>\n",
       "      <td>59848</td>\n",
       "      <td>Germany</td>\n",
       "      <td>4,1</td>\n",
       "      <td>Stone Grey</td>\n",
       "      <td>...</td>\n",
       "      <td>26</td>\n",
       "      <td>4</td>\n",
       "      <td>2022</td>\n",
       "      <td>02:17:00</td>\n",
       "      <td>1</td>\n",
       "      <td>29,76</td>\n",
       "      <td>29.76</td>\n",
       "      <td>10,42</td>\n",
       "      <td>3,87</td>\n",
       "      <td>15,48</td>\n",
       "    </tr>\n",
       "    <tr>\n",
       "      <th>3</th>\n",
       "      <td>241</td>\n",
       "      <td>58064D</td>\n",
       "      <td>Built Graphic Joggers</td>\n",
       "      <td>L</td>\n",
       "      <td>3</td>\n",
       "      <td>2022-11-05 05:07:00</td>\n",
       "      <td>7797</td>\n",
       "      <td>UK</td>\n",
       "      <td>1,0</td>\n",
       "      <td>Force Green/Faded Green Marl</td>\n",
       "      <td>...</td>\n",
       "      <td>5</td>\n",
       "      <td>11</td>\n",
       "      <td>2022</td>\n",
       "      <td>05:07:00</td>\n",
       "      <td>5</td>\n",
       "      <td>38,23</td>\n",
       "      <td>38.22</td>\n",
       "      <td>13,38</td>\n",
       "      <td>4,97</td>\n",
       "      <td>19,87</td>\n",
       "    </tr>\n",
       "    <tr>\n",
       "      <th>4</th>\n",
       "      <td>405</td>\n",
       "      <td>12602O</td>\n",
       "      <td>Studio Tank</td>\n",
       "      <td>M</td>\n",
       "      <td>1</td>\n",
       "      <td>2022-12-17 16:00:00</td>\n",
       "      <td>38795</td>\n",
       "      <td>USA</td>\n",
       "      <td>4,2</td>\n",
       "      <td>Denim Teal</td>\n",
       "      <td>...</td>\n",
       "      <td>17</td>\n",
       "      <td>12</td>\n",
       "      <td>2022</td>\n",
       "      <td>16:00:00</td>\n",
       "      <td>5</td>\n",
       "      <td>11,99</td>\n",
       "      <td>11.99</td>\n",
       "      <td>4,2</td>\n",
       "      <td>1,56</td>\n",
       "      <td>6,23</td>\n",
       "    </tr>\n",
       "    <tr>\n",
       "      <th>...</th>\n",
       "      <td>...</td>\n",
       "      <td>...</td>\n",
       "      <td>...</td>\n",
       "      <td>...</td>\n",
       "      <td>...</td>\n",
       "      <td>...</td>\n",
       "      <td>...</td>\n",
       "      <td>...</td>\n",
       "      <td>...</td>\n",
       "      <td>...</td>\n",
       "      <td>...</td>\n",
       "      <td>...</td>\n",
       "      <td>...</td>\n",
       "      <td>...</td>\n",
       "      <td>...</td>\n",
       "      <td>...</td>\n",
       "      <td>...</td>\n",
       "      <td>...</td>\n",
       "      <td>...</td>\n",
       "      <td>...</td>\n",
       "      <td>...</td>\n",
       "    </tr>\n",
       "    <tr>\n",
       "      <th>409995</th>\n",
       "      <td>770548</td>\n",
       "      <td>18747U</td>\n",
       "      <td>Lifting Club Long Sleeve T-Shirt</td>\n",
       "      <td>M</td>\n",
       "      <td>2</td>\n",
       "      <td>2023-05-14 11:06:00</td>\n",
       "      <td>80334</td>\n",
       "      <td>UK</td>\n",
       "      <td>5,0</td>\n",
       "      <td>Willow Green/Desert Sage Green</td>\n",
       "      <td>...</td>\n",
       "      <td>14</td>\n",
       "      <td>5</td>\n",
       "      <td>2023</td>\n",
       "      <td>11:06:00</td>\n",
       "      <td>6</td>\n",
       "      <td>49,14</td>\n",
       "      <td>49.14</td>\n",
       "      <td>17,2</td>\n",
       "      <td>6,39</td>\n",
       "      <td>25,55</td>\n",
       "    </tr>\n",
       "    <tr>\n",
       "      <th>409996</th>\n",
       "      <td>978199</td>\n",
       "      <td>86851C</td>\n",
       "      <td>Arrival 1/4 Zip</td>\n",
       "      <td>S</td>\n",
       "      <td>2</td>\n",
       "      <td>2023-11-03 21:43:00</td>\n",
       "      <td>97407</td>\n",
       "      <td>USA</td>\n",
       "      <td>4,5</td>\n",
       "      <td>Ozone Blue</td>\n",
       "      <td>...</td>\n",
       "      <td>3</td>\n",
       "      <td>11</td>\n",
       "      <td>2023</td>\n",
       "      <td>21:43:00</td>\n",
       "      <td>4</td>\n",
       "      <td>41,18</td>\n",
       "      <td>41.18</td>\n",
       "      <td>14,41</td>\n",
       "      <td>5,35</td>\n",
       "      <td>21,41</td>\n",
       "    </tr>\n",
       "    <tr>\n",
       "      <th>409997</th>\n",
       "      <td>123262</td>\n",
       "      <td>13022Z</td>\n",
       "      <td>Training Zip Hoodie</td>\n",
       "      <td>S</td>\n",
       "      <td>1</td>\n",
       "      <td>2023-12-19 20:51:00</td>\n",
       "      <td>53154</td>\n",
       "      <td>Canada</td>\n",
       "      <td>3,9</td>\n",
       "      <td>Darkest Teal</td>\n",
       "      <td>...</td>\n",
       "      <td>19</td>\n",
       "      <td>12</td>\n",
       "      <td>2023</td>\n",
       "      <td>20:51:00</td>\n",
       "      <td>1</td>\n",
       "      <td>37,12</td>\n",
       "      <td>37.12</td>\n",
       "      <td>12,99</td>\n",
       "      <td>4,83</td>\n",
       "      <td>19,3</td>\n",
       "    </tr>\n",
       "    <tr>\n",
       "      <th>409998</th>\n",
       "      <td>500449</td>\n",
       "      <td>29148V</td>\n",
       "      <td>Running 1/4 Zip</td>\n",
       "      <td>M</td>\n",
       "      <td>2</td>\n",
       "      <td>2023-10-05 07:22:00</td>\n",
       "      <td>12931</td>\n",
       "      <td>UK</td>\n",
       "      <td>4,3</td>\n",
       "      <td>White</td>\n",
       "      <td>...</td>\n",
       "      <td>5</td>\n",
       "      <td>10</td>\n",
       "      <td>2023</td>\n",
       "      <td>07:22:00</td>\n",
       "      <td>3</td>\n",
       "      <td>90,09</td>\n",
       "      <td>90.08</td>\n",
       "      <td>31,53</td>\n",
       "      <td>11,71</td>\n",
       "      <td>46,84</td>\n",
       "    </tr>\n",
       "    <tr>\n",
       "      <th>409999</th>\n",
       "      <td>993928</td>\n",
       "      <td>05123G</td>\n",
       "      <td>Training Woven Joggers</td>\n",
       "      <td>M</td>\n",
       "      <td>5</td>\n",
       "      <td>2023-06-19 15:33:00</td>\n",
       "      <td>83494</td>\n",
       "      <td>UK</td>\n",
       "      <td>4,4</td>\n",
       "      <td>Blossom Pink/Sweet Pink/White</td>\n",
       "      <td>...</td>\n",
       "      <td>19</td>\n",
       "      <td>6</td>\n",
       "      <td>2023</td>\n",
       "      <td>15:33:00</td>\n",
       "      <td>0</td>\n",
       "      <td>163,8</td>\n",
       "      <td>163.80</td>\n",
       "      <td>57,33</td>\n",
       "      <td>21,29</td>\n",
       "      <td>85,18</td>\n",
       "    </tr>\n",
       "  </tbody>\n",
       "</table>\n",
       "<p>410000 rows × 22 columns</p>\n",
       "</div>"
      ],
      "text/plain": [
       "        InvoiceNo StockCode                       Description Size  Quantity  \\\n",
       "0             887    80691I               Heavyweight 1/4 Zip  XXS         1   \n",
       "1             416    13669R                   Sport 5\" Shorts    M         1   \n",
       "2             130    55386H             Arrival Woven Joggers    L         2   \n",
       "3             241    58064D             Built Graphic Joggers    L         3   \n",
       "4             405    12602O                       Studio Tank    M         1   \n",
       "...           ...       ...                               ...  ...       ...   \n",
       "409995     770548    18747U  Lifting Club Long Sleeve T-Shirt    M         2   \n",
       "409996     978199    86851C                   Arrival 1/4 Zip    S         2   \n",
       "409997     123262    13022Z               Training Zip Hoodie    S         1   \n",
       "409998     500449    29148V                   Running 1/4 Zip    M         2   \n",
       "409999     993928    05123G            Training Woven Joggers    M         5   \n",
       "\n",
       "               InvoiceDate  CustomerID  Country Rating  \\\n",
       "0      2022-09-11 14:53:00       23521   Canada    0,0   \n",
       "1      2022-02-20 23:54:00       56786       UK    0,0   \n",
       "2      2022-04-26 02:17:00       59848  Germany    4,1   \n",
       "3      2022-11-05 05:07:00        7797       UK    1,0   \n",
       "4      2022-12-17 16:00:00       38795      USA    4,2   \n",
       "...                    ...         ...      ...    ...   \n",
       "409995 2023-05-14 11:06:00       80334       UK    5,0   \n",
       "409996 2023-11-03 21:43:00       97407      USA    4,5   \n",
       "409997 2023-12-19 20:51:00       53154   Canada    3,9   \n",
       "409998 2023-10-05 07:22:00       12931       UK    4,3   \n",
       "409999 2023-06-19 15:33:00       83494       UK    4,4   \n",
       "\n",
       "                                Colour  ...  Day Month  Year      Hour  \\\n",
       "0                           Camo Brown  ...   11     9  2022  14:53:00   \n",
       "1                           Black Marl  ...   20     2  2022  23:54:00   \n",
       "2                           Stone Grey  ...   26     4  2022  02:17:00   \n",
       "3         Force Green/Faded Green Marl  ...    5    11  2022  05:07:00   \n",
       "4                           Denim Teal  ...   17    12  2022  16:00:00   \n",
       "...                                ...  ...  ...   ...   ...       ...   \n",
       "409995  Willow Green/Desert Sage Green  ...   14     5  2023  11:06:00   \n",
       "409996                      Ozone Blue  ...    3    11  2023  21:43:00   \n",
       "409997                    Darkest Teal  ...   19    12  2023  20:51:00   \n",
       "409998                           White  ...    5    10  2023  07:22:00   \n",
       "409999   Blossom Pink/Sweet Pink/White  ...   19     6  2023  15:33:00   \n",
       "\n",
       "        DayOfWeek  Total  Total ingresos  Coste  Utilidad Gastos Operacionales  \n",
       "0               6  25,09           25.09   8,78      3,26                13,05  \n",
       "1               6   10,4           10.40   3,64      1,35                 5,41  \n",
       "2               1  29,76           29.76  10,42      3,87                15,48  \n",
       "3               5  38,23           38.22  13,38      4,97                19,87  \n",
       "4               5  11,99           11.99    4,2      1,56                 6,23  \n",
       "...           ...    ...             ...    ...       ...                  ...  \n",
       "409995          6  49,14           49.14   17,2      6,39                25,55  \n",
       "409996          4  41,18           41.18  14,41      5,35                21,41  \n",
       "409997          1  37,12           37.12  12,99      4,83                 19,3  \n",
       "409998          3  90,09           90.08  31,53     11,71                46,84  \n",
       "409999          0  163,8          163.80  57,33     21,29                85,18  \n",
       "\n",
       "[410000 rows x 22 columns]"
      ]
     },
     "execution_count": 121,
     "metadata": {},
     "output_type": "execute_result"
    }
   ],
   "source": [
    "sales_gymshark"
   ]
  },
  {
   "cell_type": "code",
   "execution_count": 122,
   "id": "a9d27ce7",
   "metadata": {},
   "outputs": [],
   "source": [
    "sales_gymshark.to_csv('sales_gymshark_clean2.csv', index=False)"
   ]
  },
  {
   "cell_type": "markdown",
   "id": "ffa0f252",
   "metadata": {},
   "source": [
    "### DF Nº 2: CUSTOMERS 2023"
   ]
  },
  {
   "cell_type": "code",
   "execution_count": 15,
   "id": "1d6fe6c9",
   "metadata": {},
   "outputs": [],
   "source": [
    "# Importo el CSV de CUSTOMER resultante del fake\n",
    "customer = pd.read_csv('customer.csv')"
   ]
  },
  {
   "cell_type": "code",
   "execution_count": 16,
   "id": "2a71c1e0",
   "metadata": {},
   "outputs": [
    {
     "data": {
      "text/plain": [
       "100000"
      ]
     },
     "execution_count": 16,
     "metadata": {},
     "output_type": "execute_result"
    }
   ],
   "source": [
    "len(customer)"
   ]
  },
  {
   "cell_type": "code",
   "execution_count": 17,
   "id": "32c66b25",
   "metadata": {},
   "outputs": [
    {
     "data": {
      "text/plain": [
       "(100000, 6)"
      ]
     },
     "execution_count": 17,
     "metadata": {},
     "output_type": "execute_result"
    }
   ],
   "source": [
    "customer.shape"
   ]
  },
  {
   "cell_type": "code",
   "execution_count": 18,
   "id": "66da63a3",
   "metadata": {},
   "outputs": [
    {
     "data": {
      "text/plain": [
       "Index(['CustomerID', 'Name', 'Lastname', 'Age', 'Gender', 'Country'], dtype='object')"
      ]
     },
     "execution_count": 18,
     "metadata": {},
     "output_type": "execute_result"
    }
   ],
   "source": [
    "customer.columns"
   ]
  },
  {
   "cell_type": "code",
   "execution_count": 19,
   "id": "4d93e60f",
   "metadata": {
    "scrolled": true
   },
   "outputs": [
    {
     "data": {
      "text/plain": [
       "CustomerID    0\n",
       "Name          0\n",
       "Lastname      0\n",
       "Age           0\n",
       "Gender        0\n",
       "Country       0\n",
       "dtype: int64"
      ]
     },
     "execution_count": 19,
     "metadata": {},
     "output_type": "execute_result"
    }
   ],
   "source": [
    "customer.isnull().sum()"
   ]
  },
  {
   "cell_type": "code",
   "execution_count": 20,
   "id": "d1f8a99d",
   "metadata": {},
   "outputs": [
    {
     "data": {
      "text/plain": [
       "0"
      ]
     },
     "execution_count": 20,
     "metadata": {},
     "output_type": "execute_result"
    }
   ],
   "source": [
    "customer.duplicated().sum()"
   ]
  }
 ],
 "metadata": {
  "kernelspec": {
   "display_name": "Python 3 (ipykernel)",
   "language": "python",
   "name": "python3"
  },
  "language_info": {
   "codemirror_mode": {
    "name": "ipython",
    "version": 3
   },
   "file_extension": ".py",
   "mimetype": "text/x-python",
   "name": "python",
   "nbconvert_exporter": "python",
   "pygments_lexer": "ipython3",
   "version": "3.11.5"
  }
 },
 "nbformat": 4,
 "nbformat_minor": 5
}
